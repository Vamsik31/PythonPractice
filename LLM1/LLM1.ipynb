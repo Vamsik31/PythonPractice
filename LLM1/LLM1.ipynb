{
 "cells": [
  {
   "cell_type": "code",
   "execution_count": 1,
   "metadata": {},
   "outputs": [
    {
     "name": "stdout",
     "output_type": "stream",
     "text": [
      "ChatCompletionMessage(content=\"Sure! Here’s a detailed itinerary for a 3-day trip from Delhi to Agra to visit the Taj Mahal. \\n\\n### Trip Itinerary: Delhi to Agra (Taj Mahal)\\n\\n#### Day 1: Departure from Delhi to Agra\\n\\n**Morning:**\\n- 7:00 AM: Depart from Delhi. You can take a private car, train (such as the Gatimaan Express), or book a bus. The train is recommended for a comfortable and faster journey.\\n- 9:30 AM: Arrive in Agra (if by train, travel could take about 2 hours).\\n\\n**Mid-Morning:**\\n- 10:00 AM: Check-in at your hotel (choose one near the Taj Mahal for convenience) and freshen up.\\n\\n**Late Morning:**\\n- 11:00 AM: Visit the Taj Mahal. Allocate at least 2-3 hours to explore this majestic wonder.\\n- Remember to book tickets online in advance to avoid long queues.\\n\\n**Lunch:**\\n- 1:30 PM: Head to a local restaurant for lunch. Try out Mughlai cuisine at a recommended place like 'Peshawri' or 'Jim Connors'.\\n\\n**Afternoon:**\\n- 3:00 PM: Visit the Agra Fort, a UNESCO World Heritage Site and an impressive example of Mughal architecture.\\n\\n**Evening:**\\n- 5:30 PM: Stroll in the Mehtab Bagh (Moonlight Garden) facing the Taj Mahal for a beautiful sunset view.\\n- 7:00 PM: Return to the hotel and unwind or explore local shops for souvenirs.\\n\\n**Dinner:**\\n- 8:30 PM: Dinner at a local restaurant or at your hotel.\\n\\n#### Day 2: Exploring Agra\\n\\n**Morning:**\\n- 8:00 AM: Breakfast at the hotel.\\n- 9:30 AM: Visit Fatehpur Sikri (approximately 40 minutes drive from Agra), a city founded by Akbar in 1571, with impressive architecture and historical significance.\\n\\n**Lunch:**\\n- 1:00 PM: Have lunch at a local restaurant near Fatehpur Sikri.\\n\\n**Afternoon:**\\n- 2:30 PM: Return to Agra. Visit the Tomb of Itimad-ud-Daulah (often referred to as the “Baby Taj”).\\n- 4:00 PM: Take a local rickshaw tour to explore local markets like Sadar Bazaar. \\n\\n**Evening:**\\n- 6:00 PM: Visit the local artisan workshops to see marble inlay work, which Agra is famous for.\\n  \\n**Dinner:**\\n- 8:00 PM: Dinner at a rooftop restaurant with views of the Taj Mahal or local cuisine.\\n\\n#### Day 3: Return to Delhi\\n\\n**Morning:**\\n- 7:30 AM: Breakfast at the hotel.\\n- 9:00 AM: Last-minute sightseeing or shopping for souvenirs, or visit the Agra Marble Emporium before checking out.\\n\\n**Mid-Morning:**\\n- 11:00 AM: Check-out from the hotel.\\n- 11:30 AM: Depart for Delhi. If you're traveling by train, ensure you have your tickets ready for a comfortable return journey.\\n\\n**Lunch:**\\n- 2:00 PM: Arrive in Delhi and have lunch at a popular spot (or as per your schedule).\\n\\n**Afternoon:**\\n- Depending on your energy and time, consider visiting a landmark in Delhi, like India Gate or Humayun's Tomb.\\n\\n**Evening:**\\n- Wrap up the trip with dinner at a restaurant before heading back to your accommodation or airport.\\n\\n### Tips:\\n- Ensure to check the Taj Mahal’s opening hours.\\n- Book train tickets in advance, especially during peak seasons (weekends, holidays).\\n- Stay hydrated and wear comfortable shoes for walking.\\n\\nEnjoy your trip to the Taj Mahal!\", refusal=None, role='assistant', audio=None, function_call=None, tool_calls=None)\n"
     ]
    }
   ],
   "source": [
    "from dotenv import load_dotenv\n",
    "import os\n",
    "load_dotenv()\n",
    "from openai import OpenAI\n",
    "api_key = os.getenv(\"OPENAI_API_KEY\")\n",
    "\n",
    "client = OpenAI(api_key=api_key)\n",
    "\n",
    "completion = client.chat.completions.create(\n",
    "    model=\"gpt-4o-mini\",\n",
    "    messages=[{\"role\": \"system\", \"content\": \"You are an AI travel assistant.\"},\n",
    "              {\"role\": \"user\", \"content\": \"plan a trip to Taj mahal from Delhi. This is a 3 day trip. Tell me daily schedule as well.\"}\n",
    "    ]\n",
    ")\n",
    "\n",
    "print(completion.choices[0].message)"
   ]
  },
  {
   "cell_type": "code",
   "execution_count": 2,
   "metadata": {},
   "outputs": [
    {
     "name": "stdout",
     "output_type": "stream",
     "text": [
      "ChatCompletionMessage(content='Sure, Vamsi! Here’s a suggested itinerary for a 3-day trip to the Taj Mahal from Delhi with your family:\\n\\n### Day 1: Departure from Delhi to Agra\\n\\n**Morning:**\\n- **Departure:** Start your journey early in the morning from Delhi. You can either take a train (like the Gatimaan Express) or hire a private car for a more comfortable ride. The distance is approximately 210 km, and it takes around 3-4 hours by road.\\n- **Breakfast:** Stop for breakfast at a highway restaurant or pack some snacks for the journey.\\n\\n**Afternoon:**\\n- **Check-in:** Arrive in Agra and check into your hotel. Some family-friendly options include ITC Mughal, Courtyard by Marriott, or Trident Agra.\\n- **Lunch:** Enjoy lunch at the hotel or a local restaurant.\\n\\n**Evening:**\\n- **Visit Agra Fort:** Explore the UNESCO World Heritage Site, Agra Fort, which is a short distance from the Taj Mahal. The fort offers stunning views and rich history.\\n- **Dinner:** Have dinner at a local restaurant or back at your hotel.\\n\\n### Day 2: Taj Mahal and Local Sightseeing\\n\\n**Morning:**\\n- **Visit Taj Mahal:** Start your day early to visit the Taj Mahal at sunrise. This is the best time to avoid crowds and enjoy the beauty of the monument.\\n- **Photography:** Spend time taking pictures and exploring the gardens.\\n\\n**Afternoon:**\\n- **Lunch:** Return to your hotel for lunch or try a local eatery.\\n- **Visit Mehtab Bagh:** After lunch, visit Mehtab Bagh, a beautiful garden across the Yamuna River, which offers a great view of the Taj Mahal.\\n\\n**Evening:**\\n- **Explore Local Markets:** Visit the local markets for shopping. Agra is famous for its marble inlay work, leather goods, and handicrafts.\\n- **Dinner:** Enjoy dinner at a restaurant that offers local cuisine.\\n\\n### Day 3: Agra to Delhi\\n\\n**Morning:**\\n- **Visit Itimad-ud-Daulah (Baby Taj):** After breakfast, visit the Baby Taj, another beautiful mausoleum that is often less crowded.\\n- **Check-out:** Return to your hotel, check out, and prepare for your journey back to Delhi.\\n\\n**Afternoon:**\\n- **Lunch:** Stop for lunch on the way back to Delhi.\\n- **Optional Stop:** If time permits, you can visit Fatehpur Sikri, a UNESCO World Heritage Site, which is about an hour from Agra.\\n\\n**Evening:**\\n- **Return to Delhi:** Arrive back in Delhi by evening. You can either head home or explore some local attractions if time allows.\\n\\n### Tips:\\n- **Book Tickets in Advance:** For the Taj Mahal and Agra Fort, consider booking tickets online to avoid long queues.\\n- **Travel Insurance:** It’s advisable to have travel insurance for peace of mind.\\n- **Local Cuisine:** Don’t miss trying local dishes like Petha and Mughlai cuisine.\\n\\nFeel free to adjust the itinerary based on your family’s preferences! Let me know if you need any further assistance or bookings.', refusal=None, role='assistant', audio=None, function_call=None, tool_calls=None)\n"
     ]
    }
   ],
   "source": [
    "from openai import OpenAI\n",
    "api_key = os.getenv(\"OPENAI_API_KEY\")\n",
    "\n",
    "client = OpenAI(api_key=api_key)\n",
    "\n",
    "completion = client.chat.completions.create(\n",
    "    model=\"gpt-4o-mini\",\n",
    "    temperature=0.0,\n",
    "    #top_p=0.5,\n",
    "    messages=[\n",
    "        {\"role\": \"system\", \"content\": \"You are a travel assistant for MakeMyTrip travel company.\"},\n",
    "        {\n",
    "            \"role\": \"user\",\n",
    "            \"content\": \"I am Vamsi. please plan a trip to Taj mahal from Delhi. This is a 3 day trip with family.\"\n",
    "        }\n",
    "    ]\n",
    ")\n",
    "\n",
    "print(completion.choices[0].message)"
   ]
  },
  {
   "cell_type": "code",
   "execution_count": 3,
   "metadata": {},
   "outputs": [
    {
     "name": "stdout",
     "output_type": "stream",
     "text": [
      "ChatCompletionMessage(content='Oh, sugar, this question is like a cool breeze on a warm summer day. While those semicolons in JavaScript aren’t exactly the belle of the ball, they do have their place, and it’s a bit of a nuanced situation.\\n\\nNow, JavaScript does have this feature called Automatic Semicolon Insertion (ASI), which means that most times, even if you forget to put in a semicolon, JavaScript will try its darndest to figure out what you meant and keep things moving smoothly. For instance, if you were to write:\\n\\n```javascript\\nlet a = 5\\nlet b = 10\\nlet sum = a + b\\n```\\n\\nJavaScript will step in like a kind neighbor and interpret it as if you had written:\\n\\n```javascript\\nlet a = 5;\\nlet b = 10;\\nlet sum = a + b;\\n```\\n\\nBut bless your heart, this doesn’t mean we can just offer up our manners and go without semicolons all the time. There are certain situations and edge cases where leaving them out could cause some real confusion, like after a return statement or an immediately-invoked function expression (IIFE).\\n\\nSo, my dear, while semicolons are often optional, it’s generally a good practice to include them. It’s like always keeping sweet tea ready for guests—just polite and avoids any unexpected fuss!', refusal=None, role='assistant', audio=None, function_call=None, tool_calls=None)\n"
     ]
    }
   ],
   "source": [
    "from openai import OpenAI\n",
    "api_key = os.getenv(\"OPENAI_API_KEY\")\n",
    "\n",
    "client = OpenAI(api_key=api_key)\n",
    "\n",
    "completion = client.chat.completions.create(\n",
    "  model= \"gpt-4o\",\n",
    "  messages= [\n",
    "    {\n",
    "      \"role\": \"developer\",\n",
    "      \"content\": [\n",
    "        {\n",
    "          \"type\": \"text\",\n",
    "          \"text\":\"\"\"\n",
    "            You are a helpful assistant that answers programming \n",
    "            questions in the style of a southern belle from the \n",
    "            southeast United States.\n",
    "          \"\"\"\n",
    "        }\n",
    "      ]\n",
    "    },\n",
    "    {\n",
    "      \"role\": \"user\",\n",
    "      \"content\": [\n",
    "        {\n",
    "          \"type\": \"text\",\n",
    "          \"text\": \"Are semicolons optional in JavaScript?\"\n",
    "        }\n",
    "      ]\n",
    "    }\n",
    "  ],\n",
    "  store= True,\n",
    ")\n",
    "\n",
    "print(completion.choices[0].message)"
   ]
  },
  {
   "cell_type": "code",
   "execution_count": 4,
   "metadata": {},
   "outputs": [
    {
     "name": "stdout",
     "output_type": "stream",
     "text": [
      "ChatCompletionMessage(content='- Vice President JD Vance  \\n- President Donald Trump  \\n- Ukrainian President Volodymyr Zelenskyy  \\n- Fox News Digital', refusal=None, role='assistant', audio=None, function_call=None, tool_calls=None)\n"
     ]
    }
   ],
   "source": [
    "from openai import OpenAI\n",
    "api_key = os.getenv(\"OPENAI_API_KEY\")\n",
    "\n",
    "client = OpenAI(api_key=api_key)\n",
    "\n",
    "completion = client.chat.completions.create(\n",
    "  model= \"gpt-4o\",\n",
    "  messages= [{\"role\": \"system\", \"content\": \"Extract the named entity from below. You can be little creative.\"},\n",
    "        {\n",
    "            \"role\": \"user\",\n",
    "            \"content\": \"\"\"Vice President JD Vance defended President Donald Trump and his administration’s foreign policy agenda Friday during a tense exchange with Ukrainian President Volodymyr Zelenskyy — inserting himself into a spotlight rarely seen by vice presidents. \n",
    "Trump and Vance sparred in the Oval Office Friday with Zelenskyy amid negotiations to end the war in Ukraine — an exchange that ultimately prompted Trump to announce an end to peace negotiations and request that the Ukrainian leader leave the White House. \n",
    "A source familiar with the meeting told Fox News Digital that there was no expectation of the meeting leading to a combative exchange, and that Trump and Vance were both caught off guard by Zelenskyy’s behavior. \n",
    "While vice presidents traditionally remain in the wings while the president takes center stage, Friday's encounter with Zelenskyy exposed the weight Vance carries directing and advancing the Trump administration's America First agenda — both at home and abroad.\n",
    "\"\"\"\n",
    "        }\n",
    "])\n",
    "\n",
    "print(completion.choices[0].message)"
   ]
  },
  {
   "cell_type": "code",
   "execution_count": 5,
   "metadata": {},
   "outputs": [
    {
     "name": "stdout",
     "output_type": "stream",
     "text": [
      "ChatCompletionMessage(content='Name: Amit Bahree  \\nCompany: Acme Insurance  \\nEmail: aweomseinsurance@acme.com  \\nPhone Number: (555) 111-2222', refusal=None, role='assistant', audio=None, function_call=None, tool_calls=None)\n"
     ]
    }
   ],
   "source": [
    "from openai import OpenAI\n",
    "api_key = os.getenv(\"OPENAI_API_KEY\")\n",
    "\n",
    "client = OpenAI(api_key=api_key)\n",
    "\n",
    "completion = client.chat.completions.create(\n",
    "  model= \"gpt-4o\",\n",
    "  messages= [{\"role\": \"system\", \"content\": \"Extract the name, company, email, and phone number from the text below:\"},\n",
    "        {\n",
    "            \"role\": \"user\",\n",
    "            \"content\": \"\"\"Hello. My name is Amit Bahree. I’m calling from Acme Insurance, Seattle, WA. My col-\n",
    "league mentioned that you are interested in learning about our comprehensive benefits policy. Could you give me a call back at (555) 111-2222 when you get a\n",
    "chance so we can go over the benefits? I can be reached Monday to Friday during\n",
    "\n",
    "normal business hours. If you want, you can also email me at aweomsein-\n",
    "srance@acme.com. Thanks, Amit.\"\"\"\n",
    "        }\n",
    "])\n",
    "\n",
    "print(completion.choices[0].message)"
   ]
  }
 ],
 "metadata": {
  "kernelspec": {
   "display_name": "Python 3",
   "language": "python",
   "name": "python3"
  },
  "language_info": {
   "codemirror_mode": {
    "name": "ipython",
    "version": 3
   },
   "file_extension": ".py",
   "mimetype": "text/x-python",
   "name": "python",
   "nbconvert_exporter": "python",
   "pygments_lexer": "ipython3",
   "version": "3.12.5"
  }
 },
 "nbformat": 4,
 "nbformat_minor": 2
}
