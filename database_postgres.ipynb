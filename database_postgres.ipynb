{
 "cells": [
  {
   "cell_type": "code",
   "execution_count": 2,
   "metadata": {},
   "outputs": [
    {
     "name": "stdout",
     "output_type": "stream",
     "text": [
      "4.0\n",
      "3.141592653589793\n",
      "False\n",
      "False\n",
      "['c:\\\\Users\\\\vkaru\\\\AppData\\\\Local\\\\Programs\\\\Python\\\\Python312\\\\python312.zip', 'c:\\\\Users\\\\vkaru\\\\AppData\\\\Local\\\\Programs\\\\Python\\\\Python312\\\\DLLs', 'c:\\\\Users\\\\vkaru\\\\AppData\\\\Local\\\\Programs\\\\Python\\\\Python312\\\\Lib', 'c:\\\\Users\\\\vkaru\\\\AppData\\\\Local\\\\Programs\\\\Python\\\\Python312', '', 'C:\\\\Users\\\\vkaru\\\\AppData\\\\Roaming\\\\Python\\\\Python312\\\\site-packages', 'C:\\\\Users\\\\vkaru\\\\AppData\\\\Roaming\\\\Python\\\\Python312\\\\site-packages\\\\win32', 'C:\\\\Users\\\\vkaru\\\\AppData\\\\Roaming\\\\Python\\\\Python312\\\\site-packages\\\\win32\\\\lib', 'C:\\\\Users\\\\vkaru\\\\AppData\\\\Roaming\\\\Python\\\\Python312\\\\site-packages\\\\Pythonwin', 'c:\\\\Users\\\\vkaru\\\\AppData\\\\Local\\\\Programs\\\\Python\\\\Python312\\\\Lib\\\\site-packages']\n"
     ]
    }
   ],
   "source": [
    "import math\n",
    "print(math.sqrt(16))\n",
    "\n",
    "\n",
    "from math import pi\n",
    "print(pi)\n",
    "\n",
    "import os\n",
    "print(os.path.isdir('new_folder'))\n",
    "\n",
    "print(os.path.exists(os.path.join(os.getcwd(), 'new_folder', 'file.txt')))\n",
    "\n",
    "import sys\n",
    "print(sys.path)"
   ]
  },
  {
   "cell_type": "code",
   "execution_count": 1,
   "metadata": {},
   "outputs": [
    {
     "name": "stdout",
     "output_type": "stream",
     "text": [
      "Hello, AITraining!\n"
     ]
    }
   ],
   "source": [
    "import members\n",
    "print(members.greet(\"AITraining\"))"
   ]
  },
  {
   "cell_type": "code",
   "execution_count": 2,
   "metadata": {},
   "outputs": [
    {
     "name": "stdout",
     "output_type": "stream",
     "text": [
      "Requirement already satisfied: psycopg2-binary in c:\\users\\vkaru\\appdata\\local\\programs\\python\\python312\\lib\\site-packages (2.9.10)Note: you may need to restart the kernel to use updated packages.\n",
      "\n"
     ]
    },
    {
     "name": "stderr",
     "output_type": "stream",
     "text": [
      "\n",
      "[notice] A new release of pip is available: 24.2 -> 25.0.1\n",
      "[notice] To update, run: python.exe -m pip install --upgrade pip\n"
     ]
    },
    {
     "name": "stdout",
     "output_type": "stream",
     "text": [
      "Requirement already satisfied: sqlalchemy in c:\\users\\vkaru\\appdata\\local\\programs\\python\\python312\\lib\\site-packages (2.0.38)\n",
      "Requirement already satisfied: greenlet!=0.4.17 in c:\\users\\vkaru\\appdata\\local\\programs\\python\\python312\\lib\\site-packages (from sqlalchemy) (3.1.1)\n",
      "Requirement already satisfied: typing-extensions>=4.6.0 in c:\\users\\vkaru\\appdata\\local\\programs\\python\\python312\\lib\\site-packages (from sqlalchemy) (4.12.2)\n",
      "Note: you may need to restart the kernel to use updated packages.\n"
     ]
    },
    {
     "name": "stderr",
     "output_type": "stream",
     "text": [
      "\n",
      "[notice] A new release of pip is available: 24.2 -> 25.0.1\n",
      "[notice] To update, run: python.exe -m pip install --upgrade pip\n"
     ]
    }
   ],
   "source": [
    "%pip install psycopg2-binary\n",
    "#%pip install psycopg2\n",
    "%pip install sqlalchemy\n",
    "#%pip install mysql_connector_python\n",
    "#%pip install mysqlclient"
   ]
  },
  {
   "cell_type": "code",
   "execution_count": 2,
   "metadata": {},
   "outputs": [
    {
     "data": {
      "text/plain": [
       "['credentials.cfg']"
      ]
     },
     "execution_count": 2,
     "metadata": {},
     "output_type": "execute_result"
    }
   ],
   "source": [
    "import configparser\n",
    "# Initialize the config parser\n",
    "config = configparser.ConfigParser()\n",
    "config.read('credentials.cfg')"
   ]
  },
  {
   "cell_type": "code",
   "execution_count": 3,
   "metadata": {},
   "outputs": [
    {
     "name": "stdout",
     "output_type": "stream",
     "text": [
      "Database connection successful!\n",
      "PostgreSQL version: ('PostgreSQL 15.10 on x86_64-pc-linux-gnu, compiled by gcc (Debian 10.2.1-6) 10.2.1 20210110, 64-bit',)\n",
      "Database connection closed.\n"
     ]
    }
   ],
   "source": [
    "import psycopg2\n",
    "\n",
    "try:\n",
    "    # Establish database connection\n",
    "    connection = psycopg2.connect(\n",
    "        dbname=config['postgres']['dbname'],\n",
    "        user=config['postgres']['user'],\n",
    "        password=config['postgres']['password'],\n",
    "        host=config['postgres']['host'],\n",
    "        port=config['postgres']['port'],\n",
    "    )\n",
    "    print(\"Database connection successful!\")\n",
    "\n",
    "   # Create a cursor and execute queries **inside the try block**\n",
    "    cursor = connection.cursor()\n",
    "    cursor.execute(\"SELECT version();\")\n",
    "    print(\"PostgreSQL version:\", cursor.fetchone())\n",
    "\n",
    "    # Close cursor and connection\n",
    "    cursor.close()\n",
    "    connection.close()\n",
    "    print(\"Database connection closed.\")\n",
    "   \n",
    "\n",
    "except Exception as e:\n",
    "    print(connection)\n",
    "    print(\"Error connecting to the database:\", e)\n"
   ]
  },
  {
   "cell_type": "code",
   "execution_count": 4,
   "metadata": {},
   "outputs": [
    {
     "name": "stdout",
     "output_type": "stream",
     "text": [
      "Database connection successful!\n",
      "before exc\n",
      "Table created successfully!\n",
      "before exc\n",
      "Table created successfully!\n",
      "(1, 'raj', 'new', 'one@gmail.com', None, None, datetime.datetime(2025, 2, 10, 21, 23, 13, 804506))\n",
      "1\n",
      "(3, 'test', 'lna', 'oneb@gmail.com', None, None, datetime.datetime(2025, 2, 10, 21, 34, 51, 620334))\n",
      "3\n",
      "(6, 'test', 'last', 'onetest@gmail.com', None, None, datetime.datetime(2025, 2, 14, 23, 45, 37, 40975))\n",
      "6\n",
      "(7, 'satutest', 'lastest', 'oneg@gmail.com', None, None, datetime.datetime(2025, 2, 15, 14, 55, 17, 927665))\n",
      "7\n",
      "(8, 'testone', 'testlast', 'one299@gamil.com', None, None, datetime.datetime(2025, 2, 15, 14, 56, 15, 488858))\n",
      "8\n",
      "(2, 'oneupdated', 'test', 'onea@gmail.com', None, None, datetime.datetime(2025, 2, 10, 21, 25, 51, 221159))\n",
      "2\n",
      "(5, 'oneupdated', 'onel', 'oned@gmail.com', None, None, datetime.datetime(2025, 2, 10, 21, 37, 41, 883804))\n",
      "5\n",
      "(9, 'testclass', 'testclass', 'classa@one.com', None, None, datetime.datetime(2025, 2, 18, 0, 2, 44, 911628))\n",
      "9\n",
      "(11, 'testclass', 'testclass', 'classa1@one.com', None, None, datetime.datetime(2025, 2, 18, 0, 4, 41, 533960))\n",
      "11\n",
      "(12, 'hi', 'kl', 'ahhshs@hfhf.com', None, None, datetime.datetime(2025, 2, 18, 17, 11, 54, 146612))\n",
      "12\n",
      "(13, 'gjgig', 'gjjgj', 'hfjdjd@jdjdj.com', None, None, datetime.datetime(2025, 2, 18, 17, 12, 53, 780079))\n",
      "13\n",
      "(14, 'hi', 'ko', 'hdhdhd@kdkd.com', None, None, datetime.datetime(2025, 2, 18, 17, 15, 59, 646794))\n",
      "14\n",
      "(15, 'io', 'ol', 'gdhhdh@hdjdj.com', None, None, datetime.datetime(2025, 2, 18, 17, 18, 16, 479341))\n",
      "15\n",
      "(16, 'hj', 'jjsjs', 'gshjs@jfkd.com', None, None, datetime.datetime(2025, 2, 18, 17, 18, 55, 697237))\n",
      "16\n",
      "(2, 'oneupdated', 'test', 'onea@gmail.com', None, None, datetime.datetime(2025, 2, 10, 21, 25, 51, 221159))\n",
      "2\n"
     ]
    },
    {
     "data": {
      "text/plain": [
       "[(2,\n",
       "  'oneupdated',\n",
       "  'test',\n",
       "  'onea@gmail.com',\n",
       "  None,\n",
       "  None,\n",
       "  datetime.datetime(2025, 2, 10, 21, 25, 51, 221159))]"
      ]
     },
     "execution_count": 4,
     "metadata": {},
     "output_type": "execute_result"
    }
   ],
   "source": [
    "import psycopg2\n",
    "from manage_tables import create_table\n",
    "\n",
    "from members import retrieve_members\n",
    "from transactions import create_transaction, retrieve_transactions\n",
    "try:\n",
    "    \n",
    "    connection = psycopg2.connect(\n",
    "            dbname=config['postgres']['dbname'],\n",
    "            user=config['postgres']['user'],\n",
    "            password=config['postgres']['password'],\n",
    "            host=config['postgres']['host'],\n",
    "            port=config['postgres']['port'],\n",
    "            sslmode= 'require'\n",
    "        )\n",
    "    print(\"Database connection successful!\")\n",
    "  \n",
    "except Exception as e:\n",
    "    print(\"Error connecting to the database:\", e)\n",
    "\n",
    "create_table(connection,\"members\")\n",
    "create_table(connection, \"transactions\")\n",
    "\n",
    "retrieve_members(connection)\n",
    "retrieve_members(connection = connection, email= 'onea@gmail.com')"
   ]
  },
  {
   "cell_type": "code",
   "execution_count": 6,
   "metadata": {},
   "outputs": [
    {
     "data": {
      "text/plain": [
       "'if not results:\\n   member_id = create_member(connection, first_name, last_name, email)\\nelse:\\n create_transaction(connection=connection, member_id= mem, amount= amount, description= desc)'"
      ]
     },
     "execution_count": 6,
     "metadata": {},
     "output_type": "execute_result"
    }
   ],
   "source": [
    "\n",
    "\n",
    "\n",
    "from members import create_member\n",
    "\n",
    "mem=0\n",
    "first_name = input(\"Enter first name of the member\")\n",
    "last_name = input(\"Enter last name of the member\")\n",
    "email = input(\"ENter email of the member\")\n",
    "amount = input(\"Please enter amount of the transaction\")\n",
    "desc = input(\"Please enter description of the transcation\")\n",
    "\n",
    "connection = psycopg2.connect(\n",
    "            dbname=config['postgres']['dbname'],\n",
    "            user=config['postgres']['user'],\n",
    "            password=config['postgres']['password'],\n",
    "            host=config['postgres']['host'],\n",
    "            port=config['postgres']['port'],\n",
    "            sslmode= 'require'\n",
    "        )\n",
    "results = retrieve_members(connection = connection, email= email)\n",
    "\"\"\"if not results:\n",
    "   member_id = create_member(connection, first_name, last_name, email)\n",
    "else:\n",
    " create_transaction(connection=connection, member_id= mem, amount= amount, description= desc)\"\"\""
   ]
  },
  {
   "cell_type": "code",
   "execution_count": 5,
   "metadata": {},
   "outputs": [
    {
     "name": "stdout",
     "output_type": "stream",
     "text": [
      "I am known as ChatGPT, your friendly AI storyteller. Now, would you like to hear the story of the tiger and the cow?\n"
     ]
    },
    {
     "data": {
      "text/plain": [
       "'I am known as ChatGPT, your friendly AI storyteller. Now, would you like to hear the story of the tiger and the cow?'"
      ]
     },
     "execution_count": 5,
     "metadata": {},
     "output_type": "execute_result"
    }
   ],
   "source": [
    "from openai import OpenAI\n",
    "\n",
    "def qa_responder(question):\n",
    "    #step 2\n",
    "    client = OpenAI()    \n",
    "    \n",
    "    #step 3\n",
    "    #You are wikipedia assistant and answer my questions with facts.\n",
    "    completion = client.chat.completions.create(\n",
    "        model=\"gpt-4o-mini\",\n",
    "        messages=[\n",
    "            {\"role\": \"system\", \"content\": \"You are a story teller and tell me the story of tiger and cow\"},\n",
    "            {\n",
    "                \"role\": \"user\",\n",
    "                \"content\": question\n",
    "            }\n",
    "        ]\n",
    "    )\n",
    "\n",
    "\n",
    "    print(completion.choices[0].message.content)\n",
    "    return completion.choices[0].message.content\n",
    "\n",
    "question = input(\"enter any question\")\n",
    "qa_responder(question)"
   ]
  }
 ],
 "metadata": {
  "kernelspec": {
   "display_name": "Python 3",
   "language": "python",
   "name": "python3"
  },
  "language_info": {
   "codemirror_mode": {
    "name": "ipython",
    "version": 3
   },
   "file_extension": ".py",
   "mimetype": "text/x-python",
   "name": "python",
   "nbconvert_exporter": "python",
   "pygments_lexer": "ipython3",
   "version": "3.12.5"
  }
 },
 "nbformat": 4,
 "nbformat_minor": 2
}
