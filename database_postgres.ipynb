{
 "cells": [
  {
   "cell_type": "code",
   "execution_count": 8,
   "metadata": {},
   "outputs": [
    {
     "name": "stdout",
     "output_type": "stream",
     "text": [
      "4.0\n",
      "3.141592653589793\n",
      "False\n",
      "False\n",
      "['c:\\\\Users\\\\vkaru\\\\AppData\\\\Local\\\\Programs\\\\Python\\\\Python312\\\\python312.zip', 'c:\\\\Users\\\\vkaru\\\\AppData\\\\Local\\\\Programs\\\\Python\\\\Python312\\\\DLLs', 'c:\\\\Users\\\\vkaru\\\\AppData\\\\Local\\\\Programs\\\\Python\\\\Python312\\\\Lib', 'c:\\\\Users\\\\vkaru\\\\AppData\\\\Local\\\\Programs\\\\Python\\\\Python312', '', 'C:\\\\Users\\\\vkaru\\\\AppData\\\\Roaming\\\\Python\\\\Python312\\\\site-packages', 'C:\\\\Users\\\\vkaru\\\\AppData\\\\Roaming\\\\Python\\\\Python312\\\\site-packages\\\\win32', 'C:\\\\Users\\\\vkaru\\\\AppData\\\\Roaming\\\\Python\\\\Python312\\\\site-packages\\\\win32\\\\lib', 'C:\\\\Users\\\\vkaru\\\\AppData\\\\Roaming\\\\Python\\\\Python312\\\\site-packages\\\\Pythonwin', 'c:\\\\Users\\\\vkaru\\\\AppData\\\\Local\\\\Programs\\\\Python\\\\Python312\\\\Lib\\\\site-packages']\n"
     ]
    }
   ],
   "source": [
    "import math\n",
    "print(math.sqrt(16))\n",
    "\n",
    "\n",
    "from math import pi\n",
    "print(pi)\n",
    "\n",
    "import os\n",
    "print(os.path.isdir('new_folder'))\n",
    "\n",
    "print(os.path.exists(os.path.join(os.getcwd(), 'new_folder', 'file.txt')))\n",
    "\n",
    "import sys\n",
    "print(sys.path)"
   ]
  },
  {
   "cell_type": "code",
   "execution_count": 9,
   "metadata": {},
   "outputs": [
    {
     "name": "stdout",
     "output_type": "stream",
     "text": [
      "Hello, AITraining!\n"
     ]
    }
   ],
   "source": [
    "import members\n",
    "print(members.greet(\"AITraining\"))"
   ]
  },
  {
   "cell_type": "code",
   "execution_count": 10,
   "metadata": {},
   "outputs": [
    {
     "name": "stdout",
     "output_type": "stream",
     "text": [
      "Requirement already satisfied: psycopg2-binary in c:\\users\\vkaru\\appdata\\local\\programs\\python\\python312\\lib\\site-packages (2.9.10)\n",
      "Note: you may need to restart the kernel to use updated packages.\n"
     ]
    },
    {
     "name": "stderr",
     "output_type": "stream",
     "text": [
      "\n",
      "[notice] A new release of pip is available: 24.2 -> 25.0.1\n",
      "[notice] To update, run: python.exe -m pip install --upgrade pip\n"
     ]
    },
    {
     "name": "stdout",
     "output_type": "stream",
     "text": [
      "Requirement already satisfied: sqlalchemy in c:\\users\\vkaru\\appdata\\local\\programs\\python\\python312\\lib\\site-packages (2.0.38)\n",
      "Requirement already satisfied: greenlet!=0.4.17 in c:\\users\\vkaru\\appdata\\local\\programs\\python\\python312\\lib\\site-packages (from sqlalchemy) (3.1.1)\n",
      "Requirement already satisfied: typing-extensions>=4.6.0 in c:\\users\\vkaru\\appdata\\local\\programs\\python\\python312\\lib\\site-packages (from sqlalchemy) (4.12.2)\n",
      "Note: you may need to restart the kernel to use updated packages.\n"
     ]
    },
    {
     "name": "stderr",
     "output_type": "stream",
     "text": [
      "\n",
      "[notice] A new release of pip is available: 24.2 -> 25.0.1\n",
      "[notice] To update, run: python.exe -m pip install --upgrade pip\n"
     ]
    }
   ],
   "source": [
    "%pip install psycopg2-binary\n",
    "#%pip install psycopg2\n",
    "%pip install sqlalchemy\n",
    "#%pip install mysql_connector_python\n",
    "#%pip install mysqlclient"
   ]
  },
  {
   "cell_type": "code",
   "execution_count": 2,
   "metadata": {},
   "outputs": [
    {
     "data": {
      "text/plain": [
       "['credentials.cfg']"
      ]
     },
     "execution_count": 2,
     "metadata": {},
     "output_type": "execute_result"
    }
   ],
   "source": [
    "import configparser\n",
    "# Initialize the config parser\n",
    "config = configparser.ConfigParser()\n",
    "config.read('credentials.cfg')"
   ]
  },
  {
   "cell_type": "code",
   "execution_count": 3,
   "metadata": {},
   "outputs": [
    {
     "name": "stdout",
     "output_type": "stream",
     "text": [
      "Database connection successful!\n",
      "PostgreSQL version: ('PostgreSQL 15.10 on x86_64-pc-linux-gnu, compiled by gcc (Debian 10.2.1-6) 10.2.1 20210110, 64-bit',)\n",
      "Database connection closed.\n"
     ]
    }
   ],
   "source": [
    "import psycopg2\n",
    "\n",
    "try:\n",
    "    # Establish database connection\n",
    "    connection = psycopg2.connect(\n",
    "        dbname=config['postgres']['dbname'],\n",
    "        user=config['postgres']['user'],\n",
    "        password=config['postgres']['password'],\n",
    "        host=config['postgres']['host'],\n",
    "        port=config['postgres']['port'],\n",
    "    )\n",
    "    print(\"Database connection successful!\")\n",
    "\n",
    "   # Create a cursor and execute queries **inside the try block**\n",
    "    cursor = connection.cursor()\n",
    "    cursor.execute(\"SELECT version();\")\n",
    "    print(\"PostgreSQL version:\", cursor.fetchone())\n",
    "\n",
    "    # Close cursor and connection\n",
    "    cursor.close()\n",
    "    connection.close()\n",
    "    print(\"Database connection closed.\")\n",
    "   \n",
    "\n",
    "except Exception as e:\n",
    "    print(connection)\n",
    "    print(\"Error connecting to the database:\", e)\n"
   ]
  },
  {
   "cell_type": "code",
   "execution_count": 19,
   "metadata": {},
   "outputs": [
    {
     "name": "stdout",
     "output_type": "stream",
     "text": [
      "Database connection successful!\n",
      "before exc\n",
      "Table created successfully!\n",
      "before exc\n",
      "Table created successfully!\n",
      "(4, 'kumar', 'new', None, 'male')\n",
      "(5, 'demofirst', 'demolast', None, 'na')\n",
      "(6, 'test_prudhvi', 'name2', None, 'f')\n",
      "(7, 'Vamsi', 'Karumanchi', None, 'M')\n",
      "(8, 'Nag', 'Talluri', None, 'M')\n",
      "(15, 'John', 'Doe', None, 'Male')\n",
      "(16, 'john', 'doe', None, 'male')\n",
      "(17, 'neha', 'saranu', None, 'female')\n",
      "(18, 'neha', 'saranu', None, 'female')\n",
      "(19, 'meghana', 'potturi', None, 'female')\n",
      "(20, 'srineha', 'saranu', None, 'femaLE')\n",
      "(21, 'hari', 'krishna', None, 'male')\n",
      "(22, 'neha', 'saranu', None, 'female')\n",
      "(23, '', 'bob', None, 'marlin')\n"
     ]
    }
   ],
   "source": [
    "import psycopg2\n",
    "from manage_tables import create_table\n",
    "\n",
    "from members import retrieve_members\n",
    "from transactions import create_transaction, retrieve_transactions\n",
    "try:\n",
    "    \n",
    "    connection = psycopg2.connect(\n",
    "            dbname=config['postgres']['dbname'],\n",
    "            user=config['postgres']['user'],\n",
    "            password=config['postgres']['password'],\n",
    "            host=config['postgres']['host'],\n",
    "            port=config['postgres']['port'],\n",
    "            sslmode= 'require'\n",
    "        )\n",
    "    print(\"Database connection successful!\")\n",
    "  \n",
    "except Exception as e:\n",
    "    print(\"Error connecting to the database:\", e)\n",
    "\n",
    "create_table(connection,\"members\")\n",
    "create_table(connection, \"transactions\")\n",
    "\n",
    "retrieve_members(connection)\n",
    "#retrieve_members(connection = connection, email= 'onea@gmail.com')"
   ]
  },
  {
   "cell_type": "code",
   "execution_count": null,
   "metadata": {},
   "outputs": [],
   "source": []
  }
 ],
 "metadata": {
  "kernelspec": {
   "display_name": "Python 3",
   "language": "python",
   "name": "python3"
  },
  "language_info": {
   "codemirror_mode": {
    "name": "ipython",
    "version": 3
   },
   "file_extension": ".py",
   "mimetype": "text/x-python",
   "name": "python",
   "nbconvert_exporter": "python",
   "pygments_lexer": "ipython3",
   "version": "3.12.5"
  }
 },
 "nbformat": 4,
 "nbformat_minor": 2
}
