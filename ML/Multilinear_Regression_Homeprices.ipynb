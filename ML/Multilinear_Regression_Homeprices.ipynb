{
 "cells": [
  {
   "cell_type": "code",
   "execution_count": 2,
   "metadata": {},
   "outputs": [],
   "source": [
    "import numpy as np\n",
    "import pandas as pd\n",
    "import matplotlib.pyplot as plt\n",
    "import seaborn as sns\n",
    "from sklearn.model_selection import train_test_split\n",
    "from sklearn.linear_model import LinearRegression\n",
    "from sklearn.metrics import mean_squared_error, r2_score"
   ]
  },
  {
   "cell_type": "code",
   "execution_count": 3,
   "metadata": {},
   "outputs": [
    {
     "name": "stdout",
     "output_type": "stream",
     "text": [
      "    Square_Feet  Bedrooms  Bathrooms  Proximity_to_City_Center  Age_of_House  \\\n",
      "0             0         0          0                         0             0   \n",
      "1           750         2          1                         5            10   \n",
      "2           800         2          1                         6            20   \n",
      "3           850         3          2                         4             5   \n",
      "4           900         3          2                         7            15   \n",
      "5           950         3          2                         3             3   \n",
      "6          1000         4          3                         8            25   \n",
      "7          1050         4          3                         2             2   \n",
      "8          1100         4          3                        10            30   \n",
      "9          1200         5          4                         1             1   \n",
      "10         1300         5          4                        15            50   \n",
      "\n",
      "     Price  \n",
      "0        0  \n",
      "1   150000  \n",
      "2   160000  \n",
      "3   175000  \n",
      "4   185000  \n",
      "5   195000  \n",
      "6   210000  \n",
      "7   220000  \n",
      "8   230000  \n",
      "9   250000  \n",
      "10  270000  \n"
     ]
    }
   ],
   "source": [
    "# Creating a synthetic dataset\n",
    "data = {\n",
    "'Square_Feet': [0, 750, 800, 850, 900, 950, 1000, 1050, 1100, 1200, 1300],\n",
    "'Bedrooms': [0,2, 2, 3, 3, 3, 4, 4, 4, 5, 5],\n",
    "'Bathrooms': [0, 1, 1, 2, 2, 2, 3, 3, 3, 4, 4],\n",
    "'Proximity_to_City_Center': [0, 5, 6, 4, 7, 3, 8, 2, 10, 1, 15],\n",
    "'Age_of_House': [0, 10, 20, 5, 15, 3, 25, 2, 30, 1, 50],\n",
    "'Price': [0, 150000, 160000, 175000, 185000, 195000, 210000, 220000, 230000, 250000, 270000]\n",
    "}\n",
    "\n",
    "# Convert to Pandas DataFrame\n",
    "df = pd.DataFrame(data)\n",
    "\n",
    "# Display first few rows\n",
    "print(df)"
   ]
  },
  {
   "cell_type": "code",
   "execution_count": 4,
   "metadata": {},
   "outputs": [
    {
     "name": "stdout",
     "output_type": "stream",
     "text": [
      "Square_Feet                 0\n",
      "Bedrooms                    0\n",
      "Bathrooms                   0\n",
      "Proximity_to_City_Center    0\n",
      "Age_of_House                0\n",
      "Price                       0\n",
      "dtype: int64\n",
      "       Square_Feet   Bedrooms  Bathrooms  Proximity_to_City_Center  \\\n",
      "count    11.000000  11.000000  11.000000                 11.000000   \n",
      "mean    900.000000   3.181818   2.272727                  5.545455   \n",
      "std     342.052628   1.470930   1.272078                  4.367233   \n",
      "min       0.000000   0.000000   0.000000                  0.000000   \n",
      "25%     825.000000   2.500000   1.500000                  2.500000   \n",
      "50%     950.000000   3.000000   2.000000                  5.000000   \n",
      "75%    1075.000000   4.000000   3.000000                  7.500000   \n",
      "max    1300.000000   5.000000   4.000000                 15.000000   \n",
      "\n",
      "       Age_of_House          Price  \n",
      "count     11.000000      11.000000  \n",
      "mean      14.636364  185909.090909  \n",
      "std       15.596620   71826.811910  \n",
      "min        0.000000       0.000000  \n",
      "25%        2.500000  167500.000000  \n",
      "50%       10.000000  195000.000000  \n",
      "75%       22.500000  225000.000000  \n",
      "max       50.000000  270000.000000  \n"
     ]
    }
   ],
   "source": [
    "# Checking for missing values\n",
    "print(df.isnull().sum())\n",
    "print(df.describe())"
   ]
  },
  {
   "cell_type": "code",
   "execution_count": 5,
   "metadata": {},
   "outputs": [],
   "source": [
    "# Features (independent variables)\n",
    "X = df[['Square_Feet', 'Bedrooms', 'Bathrooms', 'Proximity_to_City_Center', 'Age_of_House']]\n",
    "\n",
    "# Target Variable (dependent variable)\n",
    "y = df['Price']"
   ]
  },
  {
   "cell_type": "code",
   "execution_count": 6,
   "metadata": {},
   "outputs": [
    {
     "name": "stdout",
     "output_type": "stream",
     "text": [
      "Training set: (8, 5), Testing set: (3, 5)\n"
     ]
    }
   ],
   "source": [
    "# Splitting dataset into 80% training and 20% testing\n",
    "X_train, X_test, y_train, y_test = train_test_split(X, y, test_size=0.2, random_state=42)\n",
    "\n",
    "# Display shapes\n",
    "print(f\"Training set: {X_train.shape}, Testing set: {X_test.shape}\")"
   ]
  },
  {
   "cell_type": "code",
   "execution_count": 7,
   "metadata": {},
   "outputs": [
    {
     "name": "stdout",
     "output_type": "stream",
     "text": [
      "Intercept (b0): 1286.2310618095798\n",
      "Coefficients (b1, b2, b3, ...): [ 187.81306451 3168.28323999 3168.28323999 -301.3487078    35.63534282]\n"
     ]
    }
   ],
   "source": [
    "# Initialize the Linear Regression Model\n",
    "model = LinearRegression()\n",
    "\n",
    "# Train the model\n",
    "model.fit(X_train, y_train)\n",
    "# Print Intercept and Coefficients\n",
    "print(\"Intercept (b0):\", model.intercept_)\n",
    "print(\"Coefficients (b1, b2, b3, ...):\", model.coef_)"
   ]
  },
  {
   "cell_type": "code",
   "execution_count": 8,
   "metadata": {},
   "outputs": [
    {
     "name": "stdout",
     "output_type": "stream",
     "text": [
      "   Actual      Predicted\n",
      "5  195000  194752.918456\n",
      "0       0    1286.231062\n",
      "9  250000  254910.744274\n"
     ]
    }
   ],
   "source": [
    "# Predicting house prices using the test set\n",
    "y_pred = model.predict(X_test)\n",
    "\n",
    "# Compare Actual vs Predicted Prices\n",
    "df_results = pd.DataFrame({'Actual': y_test, 'Predicted': y_pred})\n",
    "print(df_results)"
   ]
  },
  {
   "cell_type": "code",
   "execution_count": 9,
   "metadata": {},
   "outputs": [
    {
     "data": {
      "text/plain": [
       "['multilinearreg_model.pkl']"
      ]
     },
     "execution_count": 9,
     "metadata": {},
     "output_type": "execute_result"
    }
   ],
   "source": [
    "import joblib\n",
    "\n",
    "# Save Model and Scaler\n",
    "joblib.dump(model, \"multilinearreg_model.pkl\")"
   ]
  },
  {
   "cell_type": "code",
   "execution_count": 10,
   "metadata": {},
   "outputs": [
    {
     "data": {
      "image/png": "[encoded data removed]",
      "text/plain": [
       "<Figure size 640x480 with 1 Axes>"
      ]
     },
     "metadata": {},
     "output_type": "display_data"
    },
    {
     "data": {
      "image/png": "[encoded data removed]",
      "text/plain": [
       "<Figure size 640x480 with 1 Axes>"
      ]
     },
     "metadata": {},
     "output_type": "display_data"
    }
   ],
   "source": [
    "plt.scatter(y_test, y_pred)\n",
    "plt.xlabel(\"Actual Prices\")\n",
    "plt.ylabel(\"Predicted Prices\")\n",
    "plt.title(\"Actual vs Predicted Prices\")\n",
    "plt.show()\n",
    "\n",
    "# Residual Plot\n",
    "residuals = y_test - y_pred\n",
    "sns.histplot(residuals, bins=10, kde=True)\n",
    "plt.title(\"Residual Distribution\")\n",
    "plt.show()"
   ]
  }
 ],
 "metadata": {
  "kernelspec": {
   "display_name": "Python 3",
   "language": "python",
   "name": "python3"
  },
  "language_info": {
   "codemirror_mode": {
    "name": "ipython",
    "version": 3
   },
   "file_extension": ".py",
   "mimetype": "text/x-python",
   "name": "python",
   "nbconvert_exporter": "python",
   "pygments_lexer": "ipython3",
   "version": "3.12.5"
  }
 },
 "nbformat": 4,
 "nbformat_minor": 2
}
