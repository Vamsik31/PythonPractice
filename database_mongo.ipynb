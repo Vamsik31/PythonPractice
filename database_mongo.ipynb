{
 "cells": [
  {
   "cell_type": "code",
   "execution_count": 22,
   "metadata": {},
   "outputs": [
    {
     "name": "stdout",
     "output_type": "stream",
     "text": [
      "Note: you may need to restart the kernel to use updated packages.Requirement already satisfied: pymongo in c:\\users\\vkaru\\appdata\\local\\programs\\python\\python312\\lib\\site-packages (4.11)\n",
      "Requirement already satisfied: dnspython in c:\\users\\vkaru\\appdata\\local\\programs\\python\\python312\\lib\\site-packages (2.7.0)\n",
      "\n"
     ]
    },
    {
     "name": "stderr",
     "output_type": "stream",
     "text": [
      "\n",
      "[notice] A new release of pip is available: 24.2 -> 25.0.1\n",
      "[notice] To update, run: python.exe -m pip install --upgrade pip\n"
     ]
    },
    {
     "name": "stdout",
     "output_type": "stream",
     "text": [
      "Requirement already satisfied: pymongo[srv] in c:\\users\\vkaru\\appdata\\local\\programs\\python\\python312\\lib\\site-packages (4.11)\n",
      "Requirement already satisfied: dnspython<3.0.0,>=1.16.0 in c:\\users\\vkaru\\appdata\\local\\programs\\python\\python312\\lib\\site-packages (from pymongo[srv]) (2.7.0)\n",
      "Note: you may need to restart the kernel to use updated packages.\n"
     ]
    },
    {
     "name": "stderr",
     "output_type": "stream",
     "text": [
      "WARNING: pymongo 4.11 does not provide the extra 'srv'\n",
      "\n",
      "[notice] A new release of pip is available: 24.2 -> 25.0.1\n",
      "[notice] To update, run: python.exe -m pip install --upgrade pip\n"
     ]
    },
    {
     "name": "stdout",
     "output_type": "stream",
     "text": [
      "Requirement already satisfied: python-dotenv in c:\\users\\vkaru\\appdata\\local\\programs\\python\\python312\\lib\\site-packages (1.0.1)\n",
      "Note: you may need to restart the kernel to use updated packages.\n"
     ]
    },
    {
     "name": "stderr",
     "output_type": "stream",
     "text": [
      "\n",
      "[notice] A new release of pip is available: 24.2 -> 25.0.1\n",
      "[notice] To update, run: python.exe -m pip install --upgrade pip\n"
     ]
    }
   ],
   "source": [
    "%pip install pymongo dnspython\n",
    "%pip install \"pymongo[srv]\"\n",
    "%pip install python-dotenv"
   ]
  },
  {
   "cell_type": "code",
   "execution_count": 3,
   "metadata": {},
   "outputs": [
    {
     "name": "stdout",
     "output_type": "stream",
     "text": [
      "Requirement already satisfied: python-dotenv in c:\\users\\vkaru\\appdata\\local\\programs\\python\\python312\\lib\\site-packages (1.0.1)Note: you may need to restart the kernel to use updated packages.\n",
      "\n"
     ]
    },
    {
     "name": "stderr",
     "output_type": "stream",
     "text": [
      "\n",
      "[notice] A new release of pip is available: 24.2 -> 25.0.1\n",
      "[notice] To update, run: python.exe -m pip install --upgrade pip\n"
     ]
    }
   ],
   "source": [
    "%pip install python-dotenv"
   ]
  },
  {
   "cell_type": "code",
   "execution_count": 3,
   "metadata": {},
   "outputs": [
    {
     "name": "stdout",
     "output_type": "stream",
     "text": [
      "Pinged your deployment. You successfully connected to MongoDB!\n"
     ]
    }
   ],
   "source": [
    "import pymongo\n",
    "from pymongo.mongo_client import MongoClient\n",
    "\n",
    "from pymongo.server_api import ServerApi\n",
    "\n",
    "import os\n",
    "from dotenv import load_dotenv\n",
    "# Load environment variables from .env file\n",
    "load_dotenv()\n",
    "\n",
    "uri = os.getenv(\"MONGO_DB_CONNECTION\")\n",
    "#print(uri)\n",
    "client = MongoClient(uri, server_api=ServerApi('1'))\n",
    "\n",
    "\n",
    "try:\n",
    "    client.admin.command('ping')\n",
    "    print(\"Pinged your deployment. You successfully connected to MongoDB!\")\n",
    "except Exception as e:\n",
    "    print(e)\n",
    "\n",
    "db = client.finbloom\n",
    "\n",
    "members_collection = db[\"members_vamsik\"]\n",
    "transactions_collection = db[\"transactions_vamsik\"]"
   ]
  },
  {
   "cell_type": "code",
   "execution_count": 4,
   "metadata": {},
   "outputs": [
    {
     "name": "stdout",
     "output_type": "stream",
     "text": [
      "67aa461ad75941ca05c0d867\n",
      "[ObjectId('67aa461ad75941ca05c0d868')]\n"
     ]
    }
   ],
   "source": [
    "member = {\"fname\":\"Vamsi\", \"lame\":\"Karumanchi\", \"gender\":\"Male\"}\n",
    "result = members_collection.insert_one(member)\n",
    "print(result.inserted_id)\n",
    "\n",
    "transactions = {\"amount\":\"10\", \"member_id\":f\"{result.inserted_id}\"}\n",
    "transactions_2 = [{\"amount\":20, \"member_id\": result.inserted_id}]\n",
    "\n",
    "\n",
    "#result = transactions_collection.insert_one(transactions) #1 True\n",
    "\n",
    "#result = transactions_collection.insert_one(transactions_2) #2 Runtime Exception\n",
    "\n",
    "result = transactions_collection.insert_many(transactions_2) #3 True\n",
    "\n",
    "#result = transactions_collection.insert_many(transactions) #4 Runtime Exception\n",
    "\n",
    "print(result.inserted_ids)"
   ]
  },
  {
   "cell_type": "code",
   "execution_count": 5,
   "metadata": {},
   "outputs": [
    {
     "name": "stdout",
     "output_type": "stream",
     "text": [
      "I inserted 3 documents.\n",
      "\n",
      "\n",
      "[ObjectId('67aa461ed75941ca05c0d86a'), ObjectId('67aa461ed75941ca05c0d86b'), ObjectId('67aa461ed75941ca05c0d86c')]\n"
     ]
    }
   ],
   "source": [
    "import sys\n",
    "\n",
    "member = {\"fname\":\"Vamsi\", \"lame\":\"Karumanchi\", \"gender\":\"Male\"}\n",
    "result = members_collection.insert_one(member)\n",
    "\n",
    "member_documents = [{\"fname\":\"Nag\", \"laname\":\"Talluri\", \"gender\":\"Male\"},\n",
    "{\"first_name\":\"Prudhvi\", \"last_name\":\"Talluri\", \"gender\":\"Male\"},\n",
    "{\"first_name\":\"Rishi\", \"last_name\":\"Mallepally\", \"gender\":\"Male\"}]\n",
    "\n",
    "try: \n",
    "  result = members_collection.insert_many(member_documents)\n",
    "\n",
    "# return a friendly error if the operation fails\n",
    "except pymongo.errors.OperationFailure:\n",
    "  print(\"An authentication error was received. Are you sure your database user is authorized to perform write operations?\")\n",
    "  sys.exit(1)\n",
    "else:\n",
    "  inserted_count = len(result.inserted_ids)\n",
    "  print(\"I inserted %x documents.\" %(inserted_count))\n",
    "\n",
    "  print(\"\\n\")\n",
    "print(result.inserted_ids)"
   ]
  },
  {
   "cell_type": "code",
   "execution_count": 10,
   "metadata": {},
   "outputs": [
    {
     "name": "stdout",
     "output_type": "stream",
     "text": [
      "Requirement already satisfied: python-dotenv in c:\\users\\vkaru\\appdata\\local\\programs\\python\\python312\\lib\\site-packages (1.0.1)Note: you may need to restart the kernel to use updated packages.\n"
     ]
    },
    {
     "name": "stderr",
     "output_type": "stream",
     "text": [
      "\n",
      "[notice] A new release of pip is available: 24.2 -> 25.0.1\n",
      "[notice] To update, run: python.exe -m pip install --upgrade pip\n"
     ]
    },
    {
     "name": "stdout",
     "output_type": "stream",
     "text": [
      "\n"
     ]
    }
   ],
   "source": [
    "%pip install python-dotenv"
   ]
  },
  {
   "cell_type": "code",
   "execution_count": 6,
   "metadata": {},
   "outputs": [
    {
     "name": "stdout",
     "output_type": "stream",
     "text": [
      "Pinged your deployment. You successfully connected to MongoDB!\n"
     ]
    }
   ],
   "source": [
    "import pymongo\n",
    "from pymongo.mongo_client import MongoClient\n",
    "\n",
    "from pymongo.server_api import ServerApi\n",
    "\n",
    "import os\n",
    "from dotenv import load_dotenv\n",
    "# Load environment variables from .env file\n",
    "load_dotenv()\n",
    "\n",
    "uri = os.getenv(\"MONGO_DB_CONNECTION\")\n",
    "#print(uri)\n",
    "client = MongoClient(uri, server_api=ServerApi('1'))\n",
    "\n",
    "\n",
    "try:\n",
    "    client.admin.command('ping')\n",
    "    print(\"Pinged your deployment. You successfully connected to MongoDB!\")\n",
    "except Exception as e:\n",
    "    print(e)\n",
    "\n",
    "db = client.finbloom\n",
    "\n",
    "my_collection = db[\"members_vamsik\"]"
   ]
  },
  {
   "cell_type": "code",
   "execution_count": 10,
   "metadata": {},
   "outputs": [
    {
     "name": "stdout",
     "output_type": "stream",
     "text": [
      "{'_id': ObjectId('67aa442172f400c40adf5e6a'), 'fname': 'Vamsi', 'lame': 'Karumanchi', 'gender': 'Male'}\n",
      "\n",
      "\n"
     ]
    }
   ],
   "source": [
    "# We can also find a single document. Let's find a document\n",
    "# that has the string \"rajdemo\" in the first_name list.\n",
    "\n",
    "#my_doc = my_collection.find_one({\"id\": \"67a76e72f16d8b4e5932b9f0\"})\n",
    "my_doc = my_collection.find_one({\"fname\": \"Vamsi\"})\n",
    "\n",
    "if my_doc is not None:\n",
    "  print(my_doc)\n",
    "else:\n",
    "  print(\"No Match.\")\n",
    "print(\"\\n\")"
   ]
  },
  {
   "cell_type": "code",
   "execution_count": 8,
   "metadata": {},
   "outputs": [
    {
     "name": "stdout",
     "output_type": "stream",
     "text": [
      "{'fname': 'Vamsi', 'lame': 'Karumanchi', 'gender': 'Male', '_id': ObjectId('67aa461ed75941ca05c0d869')}\n",
      "[{'fname': 'Nag', 'laname': 'Talluri', 'gender': 'Male', '_id': ObjectId('67aa461ed75941ca05c0d86a')}, {'first_name': 'Prudhvi', 'last_name': 'Talluri', 'gender': 'Male', '_id': ObjectId('67aa461ed75941ca05c0d86b')}, {'first_name': 'Rishi', 'last_name': 'Mallepally', 'gender': 'Male', '_id': ObjectId('67aa461ed75941ca05c0d86c')}]\n",
      "Collection(Database(MongoClient(host=['cluster0-shard-00-02.fwjwg.mongodb.net:27017', 'cluster0-shard-00-01.fwjwg.mongodb.net:27017', 'cluster0-shard-00-00.fwjwg.mongodb.net:27017'], document_class=dict, tz_aware=False, connect=True, retrywrites=True, w='majority', appname='Cluster0', authsource='admin', replicaset='atlas-h1cw38-shard-0', tls=True, server_api=<pymongo.server_api.ServerApi object at 0x000002320261BE00>), 'finbloom'), 'members_vamsik')\n"
     ]
    }
   ],
   "source": [
    "print(member)\n",
    "print(member_documents)\n",
    "print(my_collection)"
   ]
  },
  {
   "cell_type": "code",
   "execution_count": 11,
   "metadata": {},
   "outputs": [
    {
     "name": "stdout",
     "output_type": "stream",
     "text": [
      "Here's the updated record:\n",
      "{'_id': ObjectId('67aa442172f400c40adf5e6a'), 'fname': 'Vamsi', 'lame': 'Karumanchi', 'gender': 'Male', 'city': 'Sterling'}\n",
      "\n",
      "\n",
      "DeleteResult({'n': 1, 'electionId': ObjectId('7fffffff000000000000053d'), 'opTime': {'ts': Timestamp(1739212443, 25), 't': 1341}, 'ok': 1.0, '$clusterTime': {'clusterTime': Timestamp(1739212443, 25), 'signature': {'hash': b'<\\r\\x15\\x99\\x88B\\xbd\\xd1\\\\\\x8a\\xfb\\xd5\\xda9G\\x1e\\xf7\\xce\\x84\\xd0', 'keyId': 7419682456267128845}}, 'operationTime': Timestamp(1739212443, 25)}, acknowledged=True)\n"
     ]
    }
   ],
   "source": [
    "#my_doc = my_collection.find_one_and_update({\"fname\": \"rajdemo\"}, {\"$set\": { \"city\": \"Atlanta\" }}, new=True)\n",
    "my_doc = my_collection.find_one_and_update({\"fname\": \"Vamsi\"}, {\"$set\": { \"city\": \"Sterling\" }}, new=True)\n",
    "#my_collection.find_one\n",
    "if my_doc is not None:\n",
    "  print(\"Here's the updated record:\")\n",
    "  print(my_doc)\n",
    "else:\n",
    "  print(\"I didn't find any record with Vamsi.\")\n",
    "print(\"\\n\")\n",
    "my_doc = my_collection.delete_one({\"fname\": \"Vamsi\"})\n",
    "print(my_doc)"
   ]
  },
  {
   "cell_type": "code",
   "execution_count": 12,
   "metadata": {},
   "outputs": [
    {
     "name": "stdout",
     "output_type": "stream",
     "text": [
      "I deleted 0 records.\n",
      "\n",
      "\n"
     ]
    }
   ],
   "source": [
    "my_result = my_collection.delete_many({ \"$or\": [{\"first_name\": \"Vamsi\"}, { \"last_name\": \"Karumanchi\" }]})\n",
    "print(\"I deleted %x records.\" %(my_result.deleted_count))\n",
    "print(\"\\n\")"
   ]
  }
 ],
 "metadata": {
  "kernelspec": {
   "display_name": "Python 3",
   "language": "python",
   "name": "python3"
  },
  "language_info": {
   "codemirror_mode": {
    "name": "ipython",
    "version": 3
   },
   "file_extension": ".py",
   "mimetype": "text/x-python",
   "name": "python",
   "nbconvert_exporter": "python",
   "pygments_lexer": "ipython3",
   "version": "3.12.5"
  }
 },
 "nbformat": 4,
 "nbformat_minor": 2
}
