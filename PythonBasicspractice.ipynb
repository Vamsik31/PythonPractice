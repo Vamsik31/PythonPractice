{
 "cells": [
  {
   "cell_type": "code",
   "execution_count": 1,
   "metadata": {},
   "outputs": [
    {
     "name": "stdout",
     "output_type": "stream",
     "text": [
      "<class 'float'>\n",
      "<class 'str'>\n"
     ]
    }
   ],
   "source": [
    "# Declare a variable to store member balance, member full name and print its type.\n",
    "#declare variables\n",
    "member_balance=100.12 #float type\n",
    "member_fullName='Vamsi Karumanchi' #string type\n",
    "#print their types\n",
    "print(type(member_balance))  \n",
    "print(type(member_fullName))"
   ]
  },
  {
   "cell_type": "code",
   "execution_count": 2,
   "metadata": {},
   "outputs": [
    {
     "name": "stdout",
     "output_type": "stream",
     "text": [
      "Original value- 100 | Type- <class 'str'>\n",
      "New value- 100 | Type- <class 'int'>\n"
     ]
    }
   ],
   "source": [
    "# Change the type of a variable from a string to an integer and print both values.\n",
    "#Declare a variable as string\n",
    "value='100'\n",
    "# printing original value and string\n",
    "print(\"Original value-\", value,\"| Type-\",type(value))\n",
    "# Convert to intege\n",
    "value=int(value)\n",
    "# printing New value and string\n",
    "print(\"New value-\", value,\"| Type-\",type(value))"
   ]
  },
  {
   "cell_type": "code",
   "execution_count": 4,
   "metadata": {},
   "outputs": [
    {
     "name": "stdout",
     "output_type": "stream",
     "text": [
      "step-1: Hello, World! | Type- <class 'str'>\n",
      "Step-2: 50 | Type- <class 'int'>\n",
      "type-3: [1, 3, 5, 6, 7, 8] | Type- <class 'list'>\n",
      "type-4: {'name': 'Alice', 'age': 25} | Type- <class 'dict'>\n",
      "Step-5: True | Type- <class 'bool'>\n",
      "Uppercase   HELLO! I AM VAMSI KRISHNA  \n",
      "Trimmed Hello! I am Vamsi Krishna\n",
      "Replace   Hello! I am Vamsi Karumanchi  \n"
     ]
    }
   ],
   "source": [
    "#Create a program where a variable stores different types of values during its lifecycle \n",
    "#(e.g., string, integer, list). \n",
    "# Step 1: Store a string\n",
    "variable=\"Hello, World!\"\n",
    "print(\"step-1:\",variable,\"| Type-\",type(variable))\n",
    "# Step 2: Change to an integer\n",
    "variable=50\n",
    "print(\"Step-2:\",variable,\"| Type-\",type(variable))\n",
    "# Step 3: Change to a list\n",
    "variable=[1,3,5,6,7,8]\n",
    "print(\"type-3:\",variable,\"| Type-\",type(variable))\n",
    "# Step 4: Change to a dictionary\n",
    "variable= {\"name\": \"Alice\", \"age\": 25}\n",
    "print(\"type-4:\",variable,\"| Type-\",type(variable))\n",
    "# Step 5: Change to a boolean\n",
    "variable=True\n",
    "print(\"Step-5:\",variable,\"| Type-\",type(variable))\n",
    "#Create a string variable and demonstrate three different string methods. \n",
    "# Declare a string variable\n",
    "message=\"  Hello! I am Vamsi Krishna  \"\n",
    "# Method 1: Convert to uppercase\n",
    "upper_case_message=message.upper()\n",
    "print(\"Uppercase\",upper_case_message)\n",
    "# Method 2: Remove leading and trailing whitespace\n",
    "trimmed_message=message.strip()\n",
    "print(\"Trimmed\",trimmed_message)\n",
    "# Method 3: Replace a word\n",
    "replace_message=message.replace(\"Krishna\",\"Karumanchi\")\n",
    "print(\"Replace\",replace_message)\n",
    "\n",
    "\n"
   ]
  },
  {
   "cell_type": "code",
   "execution_count": 5,
   "metadata": {},
   "outputs": [
    {
     "name": "stdout",
     "output_type": "stream",
     "text": [
      "Addition 7.5\n",
      "Subraction 2.5\n",
      "Multiplication 12.5\n",
      "Division 2.0\n",
      "Floor_Division 2.0\n",
      "Modulus 0.0\n",
      "Exponentiation 55.90169943749474\n"
     ]
    }
   ],
   "source": [
    "#Perform arithmetic operations using integers and floats and print the results. \n",
    "# Declare integer and float variables\n",
    "num1 = 5    # Integer\n",
    "num2 = 2.5    # Float\n",
    "# Perform arithmetic operations\n",
    "addition = num1 + num2\n",
    "subtraction = num1 - num2\n",
    "multiplication = num1 * num2\n",
    "division = num1 / num2\n",
    "floor_division = num1 // num2  # Integer division (floor division)\n",
    "modulus = num1 % num2  # Remainder of division\n",
    "exponentiation = num1 ** num2  # Power operation\n",
    "# Printing Results\n",
    "print(\"Addition\",addition)\n",
    "print(\"Subraction\",subtraction)\n",
    "print(\"Multiplication\",multiplication)\n",
    "print(\"Division\",division)\n",
    "print(\"Floor_Division\",floor_division)\n",
    "print(\"Modulus\",modulus)\n",
    "print(\"Exponentiation\",exponentiation)\n"
   ]
  },
  {
   "cell_type": "code",
   "execution_count": 6,
   "metadata": {},
   "outputs": [
    {
     "name": "stdout",
     "output_type": "stream",
     "text": [
      "Success\n"
     ]
    }
   ],
   "source": [
    "#Write a condition using a boolean variable to display \"Success\" if the value is True. \n",
    "# Declare a boolean variable\n",
    "is_successful = True  \n",
    "# Check condition and display message\n",
    "if is_successful:\n",
    "    print(\"Success\")\n"
   ]
  },
  {
   "cell_type": "code",
   "execution_count": 7,
   "metadata": {},
   "outputs": [
    {
     "name": "stdout",
     "output_type": "stream",
     "text": [
      "The area of the circle with radius 10.0 is: 314.16\n"
     ]
    }
   ],
   "source": [
    "#Write a program to calculate the area of a circle using user input for the radius.\n",
    "import math\n",
    "# Get user input for the radius\n",
    "radius = float(input(\"Enter the radius of the circle: \"))\n",
    "#radius = float('5')\n",
    "# Calculate the area\n",
    "area = math.pi * (radius ** 2)\n",
    "# Display the result\n",
    "\n",
    "print(f\"The area of the circle with radius {radius} is: {area:.2f}\")\n"
   ]
  },
  {
   "cell_type": "code",
   "execution_count": 10,
   "metadata": {},
   "outputs": [
    {
     "name": "stdout",
     "output_type": "stream",
     "text": [
      "Result after adding 10: 35\n"
     ]
    }
   ],
   "source": [
    "#Write a program that converts a string representation of a number to an integer and \n",
    "#adds 10 to it.\n",
    "num_str=input(\"Enter a number:\")\n",
    "num_int=int(num_str)\n",
    "result=num_int+10\n",
    "print(f\"Result after adding 10: {result}\")"
   ]
  },
  {
   "cell_type": "code",
   "execution_count": 14,
   "metadata": {},
   "outputs": [
    {
     "name": "stdout",
     "output_type": "stream",
     "text": [
      "The remainder when 25 is divided by 4 is: 1\n"
     ]
    }
   ],
   "source": [
    "# Get user input for the two numbers\n",
    "num1 =25\n",
    "num2 = 4\n",
    "\n",
    "# Calculate the remainder using the modulus operator (%)\n",
    "remainder = num1 % num2\n",
    "\n",
    "# Display the result\n",
    "print(f\"The remainder when {num1} is divided by {num2} is: {remainder}\")"
   ]
  },
  {
   "cell_type": "code",
   "execution_count": 15,
   "metadata": {},
   "outputs": [
    {
     "name": "stdout",
     "output_type": "stream",
     "text": [
      "10 == 20 is False\n",
      "10 != 20 is True\n",
      "10 > 20 is False\n",
      "10 < 20 is True\n",
      "10 >= 20 is False\n",
      "10 <= 20 is True\n"
     ]
    }
   ],
   "source": [
    "# Get user input for two numbers\n",
    "num1 = 10\n",
    "num2 = 20\n",
    "\n",
    "# Compare the numbers using different comparison operators\n",
    "print(f\"{num1} == {num2} is {num1 == num2}\")  # Equal to\n",
    "print(f\"{num1} != {num2} is {num1 != num2}\")  # Not equal to\n",
    "print(f\"{num1} > {num2} is {num1 > num2}\")    # Greater than\n",
    "print(f\"{num1} < {num2} is {num1 < num2}\")    # Less than\n",
    "print(f\"{num1} >= {num2} is {num1 >= num2}\")  # Greater than or equal to\n",
    "print(f\"{num1} <= {num2} is {num1 <= num2}\")  # Less than or equal to\n",
    "\n"
   ]
  },
  {
   "cell_type": "code",
   "execution_count": 16,
   "metadata": {},
   "outputs": [
    {
     "name": "stdout",
     "output_type": "stream",
     "text": [
      "3  exists in the list.\n"
     ]
    }
   ],
   "source": [
    "# Define a list\n",
    "my_list = [1, 2, 3, 4, 5]\n",
    "\n",
    "# Element to check\n",
    "element = 3\n",
    "\n",
    "# Check if the element exists in the list using the 'in' operator\n",
    "if element in my_list:\n",
    "    print(element,\" exists in the list.\")\n",
    "else:\n",
    "    print(element,\" does not exist in the list.\")\n"
   ]
  },
  {
   "cell_type": "code",
   "execution_count": 17,
   "metadata": {},
   "outputs": [
    {
     "name": "stdout",
     "output_type": "stream",
     "text": [
      "You are eligible for a discount!\n"
     ]
    }
   ],
   "source": [
    "# Get user input for age and membership status\n",
    "age = 18\n",
    "is_member = input(\"Are you a member? (yes/no): \").lower() == 'yes'\n",
    "\n",
    "# Use logical operators to evaluate conditions\n",
    "if age >= 18 and is_member:\n",
    "    print(\"You are eligible for a discount!\")\n",
    "elif age >= 18 and not is_member:\n",
    "    print(\"You are an adult but not a member. Consider joining for a discount!\")\n",
    "elif age < 18 and is_member:\n",
    "    print(\"You are a minor but a member. You can still enjoy some benefits!\")\n",
    "else:\n",
    "    print(\"You are a minor and not a member. Join us for special offers!\")\n"
   ]
  },
  {
   "cell_type": "code",
   "execution_count": 23,
   "metadata": {},
   "outputs": [
    {
     "name": "stdout",
     "output_type": "stream",
     "text": [
      "60 is an even number.\n"
     ]
    }
   ],
   "source": [
    "#. Create a program that takes a number as input, checks if it is even or odd, and prints the \n",
    "#result. \n",
    "# Get user input for the number\n",
    "num = 60\n",
    "\n",
    "# Check if the number is even or odd using the modulus operator\n",
    "if num % 2 == 0:\n",
    "    print(num,\"is an even number.\")\n",
    "else:\n",
    "    print(num,\" is an odd number.\")\n"
   ]
  },
  {
   "cell_type": "code",
   "execution_count": 30,
   "metadata": {},
   "outputs": [
    {
     "name": "stdout",
     "output_type": "stream",
     "text": [
      "Given two objects are not same\n"
     ]
    }
   ],
   "source": [
    "# Write a program to compare the identity of two different objects with the same content. \n",
    "list1=[1,2,3,4,6]\n",
    "list2=[1,2,3,4,6]\n",
    "if list1 is list2:\n",
    "    print(\"Given two objects are same\")\n",
    "else:\n",
    "     print(\"Given two objects are not same\")\n",
    "\n"
   ]
  },
  {
   "cell_type": "code",
   "execution_count": 33,
   "metadata": {},
   "outputs": [
    {
     "name": "stdout",
     "output_type": "stream",
     "text": [
      "Hello, Vamsi Karumanchi ! Welcome!\n"
     ]
    }
   ],
   "source": [
    "# Write a program that asks the member user for name and greets them with a \n",
    "#personalized message.\n",
    "# Ask the user for their name\n",
    "name = \"Vamsi Karumanchi\"\n",
    "\n",
    "# Greet the user with a personalized message\n",
    "print(\"Hello,\",name,\"! Welcome!\")\n"
   ]
  },
  {
   "cell_type": "code",
   "execution_count": 120,
   "metadata": {},
   "outputs": [
    {
     "name": "stdout",
     "output_type": "stream",
     "text": [
      "Sum of Num1 and Num2 is 30\n",
      "Diffrence of Num1 and Num2 is 10\n",
      "Product of Num1 and Num2 is 200\n"
     ]
    }
   ],
   "source": [
    "# Create a program that takes two numbers as input and prints their sum, difference, and \n",
    "#product.\n",
    "num1=20\n",
    "num2=10\n",
    "sum1=num1+num2\n",
    "diffrence=num1-num2\n",
    "product=num1*num2\n",
    "print(\"Sum of Num1 and Num2 is\",sum1)\n",
    "print(\"Diffrence of Num1 and Num2 is\",diffrence)\n",
    "print(\"Product of Num1 and Num2 is\",product)"
   ]
  },
  {
   "cell_type": "code",
   "execution_count": 40,
   "metadata": {},
   "outputs": [
    {
     "name": "stdout",
     "output_type": "stream",
     "text": [
      "The value of pi rounded to three decimal places is: 3.142\n"
     ]
    }
   ],
   "source": [
    "# Display the value of pi rounded to three decimal places. \n",
    "\n",
    "import math\n",
    "\n",
    "# Display the value of pi rounded to three decimal places\n",
    "print(f\"The value of pi rounded to three decimal places is: {round(math.pi, 3)}\")"
   ]
  },
  {
   "cell_type": "code",
   "execution_count": 41,
   "metadata": {},
   "outputs": [
    {
     "name": "stdout",
     "output_type": "stream",
     "text": [
      "The compound interest is: 157.63\n",
      "The total amount after 3 years is: 1157.63\n"
     ]
    }
   ],
   "source": [
    "# Write a program that calculates the compound interest given principal, rate, and time by \n",
    "#the user. \n",
    "# Get user input for principal, rate, and time\n",
    "P = 1000\n",
    "r = 5/100\n",
    "t = 3\n",
    "\n",
    "# Calculate the compound interest (assuming interest is compounded annually, n = 1)\n",
    "A = P * (1 + r) ** t\n",
    "\n",
    "# Calculate the compound interest\n",
    "compound_interest = A - P\n",
    "\n",
    "# Print the results\n",
    "print(f\"The compound interest is: {compound_interest:.2f}\")\n",
    "print(f\"The total amount after {t} years is: {A:.2f}\")\n"
   ]
  },
  {
   "cell_type": "code",
   "execution_count": 43,
   "metadata": {},
   "outputs": [
    {
     "name": "stdout",
     "output_type": "stream",
     "text": [
      "The Largest number among the three numbers is= 30\n"
     ]
    }
   ],
   "source": [
    "# Create a program that takes three numbers as input and determines the largest of the \n",
    "#three.\n",
    "num1=10\n",
    "num2=20\n",
    "num3=30\n",
    "largest=max(num1, num2, num3)\n",
    "print(\"The Largest number among the three numbers is=\",largest)"
   ]
  },
  {
   "cell_type": "code",
   "execution_count": 45,
   "metadata": {},
   "outputs": [
    {
     "name": "stdout",
     "output_type": "stream",
     "text": [
      "The area of the circle with radius 5 is: 78.54\n"
     ]
    }
   ],
   "source": [
    "#Write a function with a docstring explaining what the function does. \n",
    "def calculate_area(radius):\n",
    "    \"\"\"\n",
    "    Calculate the area of a circle based on the given radius.\n",
    "    Parameters:\n",
    "    radius (float): The radius of the circle.\n",
    "    Returns:\n",
    "    float: The area of the circle.\n",
    "    \"\"\"\n",
    "    import math\n",
    "    return math.pi * radius ** 2\n",
    "\n",
    "# Example usage\n",
    "radius = 5\n",
    "area = calculate_area(radius)\n",
    "print(f\"The area of the circle with radius {radius} is: {area:.2f}\")\n"
   ]
  },
  {
   "cell_type": "code",
   "execution_count": 48,
   "metadata": {},
   "outputs": [
    {
     "name": "stdout",
     "output_type": "stream",
     "text": [
      "Square of the num 4 is = 16\n"
     ]
    }
   ],
   "source": [
    "#Add comments to a program that calculates the square of a number.\n",
    "num=4\n",
    "Square= num**2\n",
    "print(\"Square of the num\",num ,\"is =\",Square)"
   ]
  },
  {
   "cell_type": "code",
   "execution_count": 49,
   "metadata": {},
   "outputs": [
    {
     "name": "stdout",
     "output_type": "stream",
     "text": [
      "The area of the circle with radius 5 is: 78.54\n"
     ]
    }
   ],
   "source": [
    "#reate a multi-line comment describing the purpose of a script. \n",
    "\"\"\"\n",
    "This script calculates the area of a circle given a radius input by the user.\n",
    "The program follows these steps:\n",
    "1. Takes the radius as input from the user.\n",
    "2. Uses the formula area = π * radius^2 to calculate the area.\n",
    "3. Displays the result to the user.\n",
    "\n",
    "This script uses the math module to get the value of π and performs the calculation.\n",
    "\"\"\"\n",
    "\n",
    "import math\n",
    "\n",
    "# Get user input for the radius\n",
    "radius = 5\n",
    "\n",
    "# Calculate the area of the circle\n",
    "area = math.pi * radius ** 2\n",
    "\n",
    "# Display the result\n",
    "print(f\"The area of the circle with radius {radius} is: {area:.2f}\")\n"
   ]
  },
  {
   "cell_type": "code",
   "execution_count": 51,
   "metadata": {},
   "outputs": [
    {
     "name": "stdout",
     "output_type": "stream",
     "text": [
      "Hello, Vamsi! Welcome to our program!\n",
      "The area of the circle with radius 5.0 is: 78.54\n",
      "The perimeter (circumference) of the circle is: 31.42\n"
     ]
    }
   ],
   "source": [
    "# Write a program with multiple functions, each having a clear and descriptive docstring.\n",
    "\n",
    "def greet_user(name):\n",
    "    \"\"\"\n",
    "    Greet the user with a personalized message.\n",
    "    \n",
    "    Parameters:\n",
    "    name (str): The name of the user to greet.\n",
    "    \n",
    "    Returns:\n",
    "    None\n",
    "    \"\"\"\n",
    "    print(f\"Hello, {name}! Welcome to our program!\")\n",
    "\n",
    "def calculate_area(radius):\n",
    "    \"\"\"\n",
    "    Calculate the area of a circle based on the given radius.\n",
    "    \n",
    "    Parameters:\n",
    "    radius (float): The radius of the circle.\n",
    "    \n",
    "    Returns:\n",
    "    float: The area of the circle.\n",
    "    \"\"\"\n",
    "    import math\n",
    "    return math.pi * radius ** 2\n",
    "\n",
    "def calculate_perimeter(radius):\n",
    "    \"\"\"\n",
    "    Calculate the perimeter (circumference) of a circle based on the given radius.\n",
    "    \n",
    "    Parameters:\n",
    "    radius (float): The radius of the circle.\n",
    "    \n",
    "    Returns:\n",
    "    float: The perimeter of the circle.\n",
    "    \"\"\"\n",
    "    import math\n",
    "    return 2 * math.pi * radius\n",
    "\n",
    "def main():\n",
    "    \"\"\"\n",
    "    Main function to execute the program logic.\n",
    "    \n",
    "    This function prompts the user to enter their name and the radius of a circle,\n",
    "    and then it calculates and displays the area and perimeter of the circle.\n",
    "    \n",
    "    Returns:\n",
    "    None\n",
    "    \"\"\"\n",
    "    # Greet the user\n",
    "    name = input(\"Enter your name: \")\n",
    "    greet_user(name)\n",
    "\n",
    "    # Get radius input from the user\n",
    "    radius = float(input(\"Enter the radius of the circle: \"))\n",
    "\n",
    "    # Calculate and display the area and perimeter\n",
    "    area = calculate_area(radius)\n",
    "    perimeter = calculate_perimeter(radius)\n",
    "\n",
    "    print(f\"The area of the circle with radius {radius} is: {area:.2f}\")\n",
    "    print(f\"The perimeter (circumference) of the circle is: {perimeter:.2f}\")\n",
    "\n",
    "# Run the program\n",
    "if __name__ == \"__main__\":\n",
    "    main()\n"
   ]
  },
  {
   "cell_type": "code",
   "execution_count": 52,
   "metadata": {},
   "outputs": [
    {
     "name": "stdout",
     "output_type": "stream",
     "text": [
      "The factorial of 2 is: 2\n"
     ]
    }
   ],
   "source": [
    "#Develop a program that calculates the factorial of a number and include detailed \n",
    "#comments and a docstring.\n",
    "\n",
    "def factorial(n):\n",
    "    \"\"\"\n",
    "    Calculate the factorial of a given number.\n",
    "    \n",
    "    The factorial of a number n (denoted as n!) is the product of all positive \n",
    "    integers less than or equal to n. The factorial of 0 is defined as 1.\n",
    "    \n",
    "    Parameters:\n",
    "    n (int): A non-negative integer for which to calculate the factorial.\n",
    "    \n",
    "    Returns:\n",
    "    int: The factorial of the input number.\n",
    "    \n",
    "    Raises:\n",
    "    ValueError: If the input is a negative number.\n",
    "    \"\"\"\n",
    "    # Check if the number is negative and raise an error if it is\n",
    "    if n < 0:\n",
    "        raise ValueError(\"Factorial is not defined for negative numbers.\")\n",
    "    \n",
    "    # Initialize the result as 1, as factorial of 0 is 1\n",
    "    result = 1\n",
    "    \n",
    "    # Loop through all integers from 1 to n, multiplying them to get the factorial\n",
    "    for i in range(1, n + 1):\n",
    "        result *= i  # Multiply result by the current integer i\n",
    "    \n",
    "    # Return the final factorial result\n",
    "    return result\n",
    "\n",
    "# Main program logic\n",
    "try:\n",
    "    # Get user input for the number\n",
    "    num = int(input(\"Enter a number to calculate its factorial: \"))\n",
    "    \n",
    "    # Calculate and display the factorial\n",
    "    fact = factorial(num)\n",
    "    print(f\"The factorial of {num} is: {fact}\")\n",
    "    \n",
    "except ValueError as e:\n",
    "    print(f\"Error: {e}\")\n"
   ]
  },
  {
   "cell_type": "code",
   "execution_count": 53,
   "metadata": {},
   "outputs": [
    {
     "name": "stdout",
     "output_type": "stream",
     "text": [
      "Given number is a positive number.\n"
     ]
    }
   ],
   "source": [
    "#Write a Python program that takes an integer input and prints whether it is positive, \n",
    "#negative, or zero.\n",
    "# Get user input for the integer\n",
    "num = 5\n",
    "\n",
    "# Check if the number is positive, negative, or zero\n",
    "if num > 0:\n",
    "    print(\"Given number is a positive number.\")\n",
    "elif num < 0:\n",
    "    print(\"Given number is a negative number.\")\n",
    "else:\n",
    "    print(\"Given numberis zero.\")\n"
   ]
  },
  {
   "cell_type": "code",
   "execution_count": 54,
   "metadata": {},
   "outputs": [
    {
     "name": "stdout",
     "output_type": "stream",
     "text": [
      "You are a teenager.\n"
     ]
    }
   ],
   "source": [
    "#Create a program that categorizes a credit union member’s age group (child, teenager, \n",
    "#adult, senior) based on input. \n",
    "# Get user input for the age\n",
    "age = 18\n",
    "\n",
    "# Categorize the age into different age groups\n",
    "if age <= 12:\n",
    "    print(\"You are a child.\")\n",
    "elif age <= 19:\n",
    "    print(\"You are a teenager.\")\n",
    "elif age <= 64:\n",
    "    print(\"You are an adult.\")\n",
    "else:\n",
    "    print(\"You are a senior.\")\n"
   ]
  },
  {
   "cell_type": "code",
   "execution_count": 55,
   "metadata": {},
   "outputs": [
    {
     "name": "stdout",
     "output_type": "stream",
     "text": [
      "8 is an even number.\n"
     ]
    }
   ],
   "source": [
    "# Develop a program that takes a number input and determines if it is even or odd.\n",
    "# Get user input for the number\n",
    "num = 8\n",
    "\n",
    "# Determine if the number is even or odd\n",
    "if num % 2 == 0:\n",
    "    print(f\"{num} is an even number.\")\n",
    "else:\n",
    "    print(f\"{num} is an odd number.\")\n"
   ]
  },
  {
   "cell_type": "code",
   "execution_count": 56,
   "metadata": {},
   "outputs": [
    {
     "name": "stdout",
     "output_type": "stream",
     "text": [
      "1996 is a leap year.\n"
     ]
    }
   ],
   "source": [
    "#Write a program that checks whether a given year is a leap year.\n",
    "# Get user input for the year\n",
    "year = 1996\n",
    "\n",
    "# Check if the year is a leap year\n",
    "if (year % 4 == 0 and year % 100 != 0) or (year % 400 == 0):\n",
    "    print(f\"{year} is a leap year.\")\n",
    "else:\n",
    "    print(f\"{year} is not a leap year.\")\n"
   ]
  },
  {
   "cell_type": "code",
   "execution_count": 59,
   "metadata": {},
   "outputs": [
    {
     "name": "stdout",
     "output_type": "stream",
     "text": [
      "2\n",
      "4\n",
      "6\n",
      "8\n",
      "10\n",
      "12\n",
      "14\n",
      "16\n",
      "18\n",
      "20\n"
     ]
    }
   ],
   "source": [
    "#Write a for loop to print even numbers from 2 to 20. \n",
    "# Loop through numbers from 2 to 20 with a step of 2\n",
    "for num in range(2, 21, 2):\n",
    "    print(num)\n"
   ]
  },
  {
   "cell_type": "code",
   "execution_count": 60,
   "metadata": {},
   "outputs": [
    {
     "name": "stdout",
     "output_type": "stream",
     "text": [
      "10\n",
      "9\n",
      "8\n",
      "7\n",
      "6\n",
      "5\n",
      "4\n",
      "3\n",
      "2\n",
      "1\n"
     ]
    }
   ],
   "source": [
    "#Create a while loop that prints numbers from 10 down to 1. \n",
    "# Initialize the number\n",
    "num = 10\n",
    "\n",
    "# Loop while num is greater than or equal to 1\n",
    "while num >= 1:\n",
    "    print(num)\n",
    "    num -= 1  # Decrease num by 1 in each iteration\n"
   ]
  },
  {
   "cell_type": "code",
   "execution_count": 61,
   "metadata": {},
   "outputs": [
    {
     "name": "stdout",
     "output_type": "stream",
     "text": [
      "The sum of numbers from 1 to 100 is: 5050\n"
     ]
    }
   ],
   "source": [
    "#Implement a for loop that calculates the sum of numbers from 1 to 100. \n",
    "# Initialize the sum variable\n",
    "total_sum = 0\n",
    "\n",
    "# Loop through numbers from 1 to 100 and add them to total_sum\n",
    "for num in range(1, 101):\n",
    "    total_sum += num\n",
    "\n",
    "# Print the final sum\n",
    "print(f\"The sum of numbers from 1 to 100 is: {total_sum}\")\n"
   ]
  },
  {
   "cell_type": "code",
   "execution_count": 64,
   "metadata": {},
   "outputs": [
    {
     "name": "stdout",
     "output_type": "stream",
     "text": [
      "You entered: hi\n",
      "You entered: hello\n",
      "You entered: vamsi\n",
      "Goodbye!\n"
     ]
    }
   ],
   "source": [
    "#Write a while loop that continues asking the user for input until they enter \"quit\". \n",
    "# Infinite loop that keeps running until \"quit\" is entered\n",
    "while True:\n",
    "    user_input = input(\"Enter something (type 'quit' to exit): \")\n",
    "    \n",
    "    # Check if the user wants to quit\n",
    "    if user_input.lower() == \"quit\":\n",
    "        print(\"Goodbye!\")\n",
    "        break  # Exit the loop\n",
    "    else:\n",
    "        print(f\"You entered: {user_input}\")\n"
   ]
  },
  {
   "cell_type": "code",
   "execution_count": 65,
   "metadata": {},
   "outputs": [
    {
     "name": "stdout",
     "output_type": "stream",
     "text": [
      "1\n",
      "2\n",
      "4\n",
      "5\n",
      "7\n",
      "8\n",
      "10\n"
     ]
    }
   ],
   "source": [
    "#Write a loop that prints numbers from 1 to 10 but skips multiples of 3 using continue. \n",
    "# Loop through numbers from 1 to 10\n",
    "for num in range(1, 11):\n",
    "    # Check if the number is a multiple of 3\n",
    "    if num % 3 == 0:\n",
    "        continue  # Skip the rest of the loop for this iteration\n",
    "    print(num)  # Print only if not a multiple of 3\n"
   ]
  },
  {
   "cell_type": "code",
   "execution_count": 66,
   "metadata": {},
   "outputs": [
    {
     "name": "stdout",
     "output_type": "stream",
     "text": [
      "1\n",
      "2\n",
      "3\n",
      "4\n",
      "5\n",
      "6\n",
      "Encountered 7, stopping execution.\n"
     ]
    }
   ],
   "source": [
    "#Implement a loop that stops execution when it encounters the number 7 using break\n",
    "# Loop through numbers from 1 to 10\n",
    "for num in range(1, 11):\n",
    "    # Check if the number is 7\n",
    "    if num == 7:\n",
    "        print(\"Encountered 7, stopping execution.\")\n",
    "        break  # Exit the loop\n",
    "    print(num)  # Print the number if it is not 7\n"
   ]
  },
  {
   "cell_type": "code",
   "execution_count": 67,
   "metadata": {},
   "outputs": [
    {
     "name": "stdout",
     "output_type": "stream",
     "text": [
      "Hello\n",
      "Python\n",
      "World\n",
      "Code\n"
     ]
    }
   ],
   "source": [
    "#. Develop a program that iterates over a list and skips empty strings using continue. \n",
    "# List with some empty strings\n",
    "words = [\"Hello\", \"\", \"Python\", \" \", \"World\", \"\", \"Code\"]\n",
    "\n",
    "# Loop through the list\n",
    "for word in words:\n",
    "    # Check if the string is empty or just whitespace\n",
    "    if word.strip() == \"\":\n",
    "        continue  # Skip this iteration\n",
    "    \n",
    "    print(word)  # Print non-empty words\n"
   ]
  },
  {
   "cell_type": "code",
   "execution_count": 68,
   "metadata": {},
   "outputs": [
    {
     "name": "stdout",
     "output_type": "stream",
     "text": [
      "You entered: hi\n",
      "You entered: hello\n",
      "Program terminated.\n"
     ]
    }
   ],
   "source": [
    "#. Write a loop that terminates when the user inputs \"exit\". \n",
    "while True:\n",
    "    user_input = input(\"Enter something (type 'exit' to stop): \")\n",
    "    \n",
    "    # Check if the user wants to exit\n",
    "    if user_input.lower() == \"exit\":\n",
    "        print(\"Program terminated.\")\n",
    "        break  # Exit the loop\n",
    "    \n",
    "    print(f\"You entered: {user_input}\")\n"
   ]
  },
  {
   "cell_type": "code",
   "execution_count": 69,
   "metadata": {},
   "outputs": [
    {
     "name": "stdout",
     "output_type": "stream",
     "text": [
      "1 2 3 \n",
      "1 2 3 \n",
      "1 2 3 \n"
     ]
    }
   ],
   "source": [
    "#. Write a nested loop that prints a 3x3 grid of numbers. \n",
    "# Outer loop for rows\n",
    "for row in range(1, 4):  \n",
    "    # Inner loop for columns\n",
    "    for col in range(1, 4):  \n",
    "        print(col, end=\" \")  # Print numbers in a row\n",
    "    print()  # Move to the next line after each row\n"
   ]
  },
  {
   "cell_type": "code",
   "execution_count": 70,
   "metadata": {},
   "outputs": [
    {
     "name": "stdout",
     "output_type": "stream",
     "text": [
      "* \n",
      "* * \n",
      "* * * \n",
      "* * * * \n",
      "* * * * * \n"
     ]
    }
   ],
   "source": [
    "#. Modify the nested loop to print a right-angled triangle pattern using asterisks (*). \n",
    "# Number of rows for the triangle\n",
    "rows = 5\n",
    "\n",
    "# Outer loop for rows\n",
    "for i in range(1, rows + 1):  \n",
    "    # Inner loop for columns (prints increasing stars)\n",
    "    for j in range(i):  \n",
    "        print(\"*\", end=\" \")  # Print * with a space\n",
    "    print()  # Move to the next line after each row\n"
   ]
  },
  {
   "cell_type": "code",
   "execution_count": 71,
   "metadata": {},
   "outputs": [
    {
     "name": "stdout",
     "output_type": "stream",
     "text": [
      "1 × 1 = 1\t1 × 2 = 2\t1 × 3 = 3\t1 × 4 = 4\t1 × 5 = 5\t1 × 6 = 6\t1 × 7 = 7\t1 × 8 = 8\t1 × 9 = 9\t1 × 10 = 10\t\n",
      "\n",
      "2 × 1 = 2\t2 × 2 = 4\t2 × 3 = 6\t2 × 4 = 8\t2 × 5 = 10\t2 × 6 = 12\t2 × 7 = 14\t2 × 8 = 16\t2 × 9 = 18\t2 × 10 = 20\t\n",
      "\n",
      "3 × 1 = 3\t3 × 2 = 6\t3 × 3 = 9\t3 × 4 = 12\t3 × 5 = 15\t3 × 6 = 18\t3 × 7 = 21\t3 × 8 = 24\t3 × 9 = 27\t3 × 10 = 30\t\n",
      "\n",
      "4 × 1 = 4\t4 × 2 = 8\t4 × 3 = 12\t4 × 4 = 16\t4 × 5 = 20\t4 × 6 = 24\t4 × 7 = 28\t4 × 8 = 32\t4 × 9 = 36\t4 × 10 = 40\t\n",
      "\n",
      "5 × 1 = 5\t5 × 2 = 10\t5 × 3 = 15\t5 × 4 = 20\t5 × 5 = 25\t5 × 6 = 30\t5 × 7 = 35\t5 × 8 = 40\t5 × 9 = 45\t5 × 10 = 50\t\n",
      "\n",
      "6 × 1 = 6\t6 × 2 = 12\t6 × 3 = 18\t6 × 4 = 24\t6 × 5 = 30\t6 × 6 = 36\t6 × 7 = 42\t6 × 8 = 48\t6 × 9 = 54\t6 × 10 = 60\t\n",
      "\n",
      "7 × 1 = 7\t7 × 2 = 14\t7 × 3 = 21\t7 × 4 = 28\t7 × 5 = 35\t7 × 6 = 42\t7 × 7 = 49\t7 × 8 = 56\t7 × 9 = 63\t7 × 10 = 70\t\n",
      "\n",
      "8 × 1 = 8\t8 × 2 = 16\t8 × 3 = 24\t8 × 4 = 32\t8 × 5 = 40\t8 × 6 = 48\t8 × 7 = 56\t8 × 8 = 64\t8 × 9 = 72\t8 × 10 = 80\t\n",
      "\n",
      "9 × 1 = 9\t9 × 2 = 18\t9 × 3 = 27\t9 × 4 = 36\t9 × 5 = 45\t9 × 6 = 54\t9 × 7 = 63\t9 × 8 = 72\t9 × 9 = 81\t9 × 10 = 90\t\n",
      "\n",
      "10 × 1 = 10\t10 × 2 = 20\t10 × 3 = 30\t10 × 4 = 40\t10 × 5 = 50\t10 × 6 = 60\t10 × 7 = 70\t10 × 8 = 80\t10 × 9 = 90\t10 × 10 = 100\t\n",
      "\n"
     ]
    }
   ],
   "source": [
    "#. Develop a program that prints the multiplication table (1-10) for numbers 1-10 using \n",
    "#nested loops. \n",
    "# Loop through numbers 1 to 10\n",
    "for i in range(1, 11):  \n",
    "    # Inner loop to multiply i with numbers 1 to 10\n",
    "    for j in range(1, 11):  \n",
    "        print(f\"{i} × {j} = {i * j}\", end=\"\\t\")  # Print the multiplication result\n",
    "    print(\"\\n\")  # Add a new line after each table\n"
   ]
  },
  {
   "cell_type": "code",
   "execution_count": 72,
   "metadata": {},
   "outputs": [
    {
     "name": "stdout",
     "output_type": "stream",
     "text": [
      "    1 \n",
      "   1 2 \n",
      "  1 2 3 \n",
      " 1 2 3 4 \n",
      "1 2 3 4 5 \n"
     ]
    }
   ],
   "source": [
    "# Create a pattern printing program that generates a pyramid of numbers. \n",
    "# Number of rows for the pyramid\n",
    "rows = 5\n",
    "\n",
    "# Outer loop for rows\n",
    "for i in range(1, rows + 1):\n",
    "    # Print spaces for alignment\n",
    "    print(\" \" * (rows - i), end=\"\")\n",
    "    \n",
    "    # Print numbers in increasing order\n",
    "    for j in range(1, i + 1):\n",
    "        print(j, end=\" \")\n",
    "    \n",
    "    print()  # Move to the next line\n"
   ]
  },
  {
   "cell_type": "code",
   "execution_count": 73,
   "metadata": {},
   "outputs": [
    {
     "name": "stdout",
     "output_type": "stream",
     "text": [
      "The square of 5 is: 25\n"
     ]
    }
   ],
   "source": [
    "#Define a function square that takes a number as input and returns its square. \n",
    "def square(num):\n",
    "    \"\"\"Returns the square of a given number.\"\"\"\n",
    "    return num ** 2  # Using exponentiation operator\n",
    "\n",
    "# Example usage\n",
    "result = square(5)\n",
    "print(f\"The square of 5 is: {result}\")\n"
   ]
  },
  {
   "cell_type": "code",
   "execution_count": 74,
   "metadata": {},
   "outputs": [
    {
     "name": "stdout",
     "output_type": "stream",
     "text": [
      "True\n",
      "False\n"
     ]
    }
   ],
   "source": [
    "#reate a function is_even that returns True if a number is even and False otherwise. \n",
    "def is_even(num):\n",
    "    \"\"\"Returns True if the number is even, otherwise returns False.\"\"\"\n",
    "    return num % 2 == 0  # Even numbers have a remainder of 0 when divided by 2\n",
    "\n",
    "# Example usage\n",
    "print(is_even(4))  # True\n",
    "print(is_even(7))  # False\n"
   ]
  },
  {
   "cell_type": "code",
   "execution_count": 77,
   "metadata": {},
   "outputs": [
    {
     "name": "stdout",
     "output_type": "stream",
     "text": [
      "Hello, Vamsi! Welcome!\n",
      "Hello, Krishna! Welcome!\n",
      "Hello, Karumanchi! Welcome!\n"
     ]
    }
   ],
   "source": [
    "#Write a function greet_user that takes a name as input and prints a personalized \n",
    "#greeting. \n",
    "def greet_user(name):\n",
    "    \"\"\"Prints a personalized greeting for the user.\"\"\"\n",
    "    print(f\"Hello, {name}! Welcome!\")  # Using f-string for formatting\n",
    "\n",
    "# Example usage\n",
    "greet_user(\"Vamsi\")\n",
    "greet_user(\"Krishna\")\n",
    "greet_user(\"Karumanchi\")\n"
   ]
  },
  {
   "cell_type": "code",
   "execution_count": 78,
   "metadata": {},
   "outputs": [
    {
     "name": "stdout",
     "output_type": "stream",
     "text": [
      "120\n",
      "5040\n"
     ]
    }
   ],
   "source": [
    "#Write a function that returns the factorial of a number. \n",
    "def factorial(n):\n",
    "    \"\"\"Returns the factorial of a given number n.\"\"\"\n",
    "    if n == 0 or n == 1:  \n",
    "        return 1  # Base case: 0! and 1! are both 1\n",
    "    return n * factorial(n - 1)  # Recursive call\n",
    "\n",
    "# Example usage\n",
    "print(factorial(5))  # Output: 120\n",
    "print(factorial(7))  # Output: 5040\n"
   ]
  },
  {
   "cell_type": "code",
   "execution_count": 79,
   "metadata": {},
   "outputs": [
    {
     "name": "stdout",
     "output_type": "stream",
     "text": [
      "True\n",
      "True\n",
      "False\n",
      "True\n"
     ]
    }
   ],
   "source": [
    "#Implement a function that checks if a string is a palindrome. \n",
    "def is_palindrome(s):\n",
    "    \"\"\"Returns True if the given string is a palindrome, otherwise False.\"\"\"\n",
    "    s = s.lower().replace(\" \", \"\")  # Convert to lowercase and remove spaces\n",
    "    return s == s[::-1]  # Compare the string with its reverse\n",
    "\n",
    "# Example usage\n",
    "print(is_palindrome(\"madam\"))      # True\n",
    "print(is_palindrome(\"racecar\"))    # True\n",
    "print(is_palindrome(\"hello\"))      # False\n",
    "print(is_palindrome(\"A man a plan a canal Panama\"))  # True (ignoring spaces & case)\n"
   ]
  },
  {
   "cell_type": "code",
   "execution_count": 107,
   "metadata": {},
   "outputs": [
    {
     "name": "stdout",
     "output_type": "stream",
     "text": [
      "6\n",
      "60\n"
     ]
    }
   ],
   "source": [
    "#Write add function that takes 3 position arguments and returns sum of them. \n",
    "def add(a, b, c):\n",
    "    \"\"\"Returns the sum of three numbers.\"\"\"\n",
    "    return a + b + c  # Add all three numbers\n",
    "\n",
    "# Example usage\n",
    "print(add(1, 2, 3))   # Output: 6\n",
    "print(add(10, 20, 30))  # Output: 60\n"
   ]
  },
  {
   "cell_type": "code",
   "execution_count": 123,
   "metadata": {},
   "outputs": [
    {
     "name": "stdout",
     "output_type": "stream",
     "text": [
      "3\n",
      "6\n",
      "150\n"
     ]
    }
   ],
   "source": [
    "#Modify the add function to accept any number of arguments. \\\n",
    "#del sum\n",
    "def add(*args):\n",
    "    \"\"\"Returns the sum of all provided numbers.\"\"\"\n",
    "    return sum(args)  # Sum all numbers in args\n",
    "\n",
    "print(add(1,2))\n",
    "# Example usage\n",
    "print(add(1, 2, 3))            # Output: 6\n",
    "print(add(10, 20, 30, 40, 50))  # Output: 150\n",
    "#print(add())                   # Output: 0 (handles no arguments)\n"
   ]
  },
  {
   "cell_type": "code",
   "execution_count": 125,
   "metadata": {},
   "outputs": [
    {
     "name": "stdout",
     "output_type": "stream",
     "text": [
      "name: Alice\n",
      "age: 30\n",
      "city: New York\n",
      "product: Laptop\n",
      "price: 799\n",
      "stock: 30\n"
     ]
    }
   ],
   "source": [
    "#Write a function that accepts a variable number of keyword arguments and prints them \n",
    "#in a formatted manner.\n",
    "def print_kwargs(**kwargs):\n",
    "    \"\"\"Prints all the keyword arguments in a formatted manner.\"\"\"\n",
    "    for key, value in kwargs.items():\n",
    "        print(f\"{key}: {value}\")  # Format: key: value\n",
    "\n",
    "# Example usage\n",
    "print_kwargs(name=\"Alice\", age=30, city=\"New York\")\n",
    "print_kwargs(product=\"Laptop\", price=799, stock=30)\n"
   ]
  },
  {
   "cell_type": "code",
   "execution_count": 126,
   "metadata": {},
   "outputs": [
    {
     "name": "stdout",
     "output_type": "stream",
     "text": [
      "14\n",
      "1\n"
     ]
    }
   ],
   "source": [
    "#Create a function that calculates the greatest common divisor (GCD) of two numbers.\n",
    "def gcd(a, b):\n",
    "    \"\"\"Returns the greatest common divisor (GCD) of two numbers.\"\"\"\n",
    "    while b:  # While b is not zero\n",
    "        a, b = b, a % b  # Reassign a to b, and b to the remainder of a divided by b\n",
    "    return a  # When b becomes zero, a is the GCD\n",
    "\n",
    "# Example usage\n",
    "print(gcd(56, 98))  # Output: 14\n",
    "print(gcd(101, 103))  # Output: 1 (since 101 and 103 are prime and do not have a common divisor)\n"
   ]
  },
  {
   "cell_type": "code",
   "execution_count": 127,
   "metadata": {},
   "outputs": [
    {
     "name": "stdout",
     "output_type": "stream",
     "text": [
      "[0, 1, 1, 2, 3, 5, 8, 13, 21, 34]\n",
      "[0, 1, 1, 2, 3]\n"
     ]
    }
   ],
   "source": [
    "#Write a function that returns the Fibonacci sequence up to a given number. \n",
    "def fibonacci(n):\n",
    "    \"\"\"Returns the Fibonacci sequence up to the nth number.\"\"\"\n",
    "    sequence = [0, 1]  # Initial Fibonacci numbers\n",
    "    while len(sequence) < n:\n",
    "        # Append the sum of the last two numbers in the sequence\n",
    "        sequence.append(sequence[-1] + sequence[-2])\n",
    "    return sequence[:n]  # Return the sequence up to the nth number\n",
    "\n",
    "# Example usage\n",
    "print(fibonacci(10))  # Output: [0, 1, 1, 2, 3, 5, 8, 13, 21, 34]\n",
    "print(fibonacci(5))   # Output: [0, 1, 1, 2, 3]\n"
   ]
  },
  {
   "cell_type": "code",
   "execution_count": 128,
   "metadata": {},
   "outputs": [
    {
     "name": "stdout",
     "output_type": "stream",
     "text": [
      "Before: 0\n",
      "After: 1\n",
      "After incrementing again: 2\n"
     ]
    }
   ],
   "source": [
    "#Write a function that modifies a global variable inside a function. \n",
    "# Global variable\n",
    "count = 0\n",
    "\n",
    "def increment_count():\n",
    "    \"\"\"Increments the global variable 'count' by 1.\"\"\"\n",
    "    global count  # Declare that we're using the global 'count' variable\n",
    "    count += 1  # Modify the global variable\n",
    "\n",
    "# Example usage\n",
    "print(f\"Before: {count}\")  # Output: 0\n",
    "increment_count()\n",
    "print(f\"After: {count}\")   # Output: 1\n",
    "increment_count()\n",
    "print(f\"After incrementing again: {count}\")  # Output: 2\n"
   ]
  },
  {
   "cell_type": "code",
   "execution_count": 129,
   "metadata": {},
   "outputs": [
    {
     "name": "stdout",
     "output_type": "stream",
     "text": [
      "10\n"
     ]
    }
   ],
   "source": [
    "#Create a nested function that accesses a variable from the outer function. \n",
    "def outer_function(x):\n",
    "    \"\"\"Outer function that defines a variable and a nested function.\"\"\"\n",
    "    \n",
    "    def inner_function():\n",
    "        \"\"\"Inner function that accesses the variable from the outer function.\"\"\"\n",
    "        return x * 2  # Access the variable 'x' from the outer function\n",
    "    \n",
    "    return inner_function()  # Call and return the result of the inner function\n",
    "\n",
    "# Example usage\n",
    "result = outer_function(5)\n",
    "print(result)  # Output: 10\n"
   ]
  },
  {
   "cell_type": "code",
   "execution_count": 130,
   "metadata": {},
   "outputs": [
    {
     "name": "stdout",
     "output_type": "stream",
     "text": [
      "Inside inner_function, count = 1\n",
      "After inner_function, count = 1\n"
     ]
    }
   ],
   "source": [
    "# Write a function that demonstrates the use of nonlocal variables. \n",
    "def outer_function():\n",
    "    \"\"\"Outer function with a nonlocal variable.\"\"\"\n",
    "    count = 0  # This variable is in the outer function scope\n",
    "    \n",
    "    def inner_function():\n",
    "        \"\"\"Inner function that modifies the outer function's variable using nonlocal.\"\"\"\n",
    "        nonlocal count  # Refers to the 'count' in the outer function's scope\n",
    "        count += 1  # Modify the outer function's 'count'\n",
    "        print(f\"Inside inner_function, count = {count}\")\n",
    "    \n",
    "    inner_function()  # Call the inner function\n",
    "    print(f\"After inner_function, count = {count}\")  # Access the modified value\n",
    "\n",
    "# Example usage\n",
    "outer_function()\n"
   ]
  },
  {
   "cell_type": "code",
   "execution_count": 131,
   "metadata": {},
   "outputs": [
    {
     "name": "stdout",
     "output_type": "stream",
     "text": [
      "The function has been called 1 times.\n",
      "The function has been called 2 times.\n",
      "The function has been called 3 times.\n"
     ]
    }
   ],
   "source": [
    "# Implement a function that tracks the number of times it has been called using a global \n",
    "#variable. \n",
    "# Global variable to keep track of the number of function calls\n",
    "call_count = 0\n",
    "\n",
    "def track_calls():\n",
    "    \"\"\"Function that increments the global 'call_count' variable each time it's called.\"\"\"\n",
    "    global call_count  # Declare that we're using the global 'call_count' variable\n",
    "    call_count += 1  # Increment the count each time the function is called\n",
    "    print(f\"The function has been called {call_count} times.\")\n",
    "\n",
    "# Example usage\n",
    "track_calls()  # Output: The function has been called 1 times.\n",
    "track_calls()  # Output: The function has been called 2 times.\n",
    "track_calls()  # Output: The function has been called 3 times.\n"
   ]
  },
  {
   "cell_type": "code",
   "execution_count": 132,
   "metadata": {},
   "outputs": [
    {
     "name": "stdout",
     "output_type": "stream",
     "text": [
      "15\n"
     ]
    }
   ],
   "source": [
    "#Write a lambda function to multiply two numbers. \n",
    "# Lambda function to multiply two numbers\n",
    "multiply = lambda x, y: x * y\n",
    "\n",
    "# Example usage\n",
    "result = multiply(5, 3)\n",
    "print(result)  # Output: 15\n"
   ]
  },
  {
   "cell_type": "code",
   "execution_count": 133,
   "metadata": {},
   "outputs": [
    {
     "name": "stdout",
     "output_type": "stream",
     "text": [
      "[2, 4, 6, 8, 10]\n"
     ]
    }
   ],
   "source": [
    "#Use map with a lambda function to double each element in a list. \n",
    "# List of numbers\n",
    "numbers = [1, 2, 3, 4, 5]\n",
    "\n",
    "# Use map with a lambda function to double each element in the list\n",
    "doubled_numbers = list(map(lambda x: x * 2, numbers))\n",
    "\n",
    "# Print the result\n",
    "print(doubled_numbers)  # Output: [2, 4, 6, 8, 10]\n"
   ]
  },
  {
   "cell_type": "code",
   "execution_count": 134,
   "metadata": {},
   "outputs": [
    {
     "name": "stdout",
     "output_type": "stream",
     "text": [
      "[1, 3, 5, 7, 9]\n"
     ]
    }
   ],
   "source": [
    "#Use filter with a lambda function to extract odd numbers from a list. \n",
    "# List of numbers\n",
    "numbers = [1, 2, 3, 4, 5, 6, 7, 8, 9, 10]\n",
    "\n",
    "# Use filter with a lambda function to extract odd numbers\n",
    "odd_numbers = list(filter(lambda x: x % 2 != 0, numbers))\n",
    "\n",
    "# Print the result\n",
    "print(odd_numbers)  # Output: [1, 3, 5, 7, 9]\n"
   ]
  },
  {
   "cell_type": "code",
   "execution_count": 135,
   "metadata": {},
   "outputs": [
    {
     "name": "stdout",
     "output_type": "stream",
     "text": [
      "20\n"
     ]
    }
   ],
   "source": [
    "#Create a lambda function to find the maximum of three numbers.\n",
    "# Lambda function to find the maximum of three numbers\n",
    "max_of_three = lambda x, y, z: max(x, y, z)\n",
    "\n",
    "# Example usage\n",
    "result = max_of_three(10, 20, 15)\n",
    "print(result)  # Output: 20\n"
   ]
  },
  {
   "cell_type": "code",
   "execution_count": 136,
   "metadata": {},
   "outputs": [
    {
     "name": "stdout",
     "output_type": "stream",
     "text": [
      "120\n"
     ]
    }
   ],
   "source": [
    "#Use reduce to calculate the product of all elements in a list.\n",
    "from functools import reduce\n",
    "\n",
    "# List of numbers\n",
    "numbers = [1, 2, 3, 4, 5]\n",
    "\n",
    "# Use reduce to calculate the product of all elements in the list\n",
    "product = reduce(lambda x, y: x * y, numbers)\n",
    "\n",
    "# Print the result\n",
    "print(product)  # Output: 120\n"
   ]
  },
  {
   "cell_type": "code",
   "execution_count": 137,
   "metadata": {},
   "outputs": [
    {
     "name": "stdout",
     "output_type": "stream",
     "text": [
      "[32.0, 50.0, 68.0, 86.0, 104.0]\n"
     ]
    }
   ],
   "source": [
    "# Use map to convert a list of temperatures in Celsius to Fahrenheit.\n",
    "# List of temperatures in Celsius\n",
    "celsius_temps = [0, 10, 20, 30, 40]\n",
    "\n",
    "# Use map with a lambda function to convert Celsius to Fahrenheit\n",
    "fahrenheit_temps = list(map(lambda c: (c * 9/5) + 32, celsius_temps))\n",
    "\n",
    "# Print the result\n",
    "print(fahrenheit_temps)  # Output: [32.0, 50.0, 68.0, 86.0, 104.0]\n"
   ]
  },
  {
   "cell_type": "code",
   "execution_count": 138,
   "metadata": {},
   "outputs": [
    {
     "name": "stdout",
     "output_type": "stream",
     "text": [
      "['apple', 'banana', 'cherry']\n"
     ]
    }
   ],
   "source": [
    "# Use filter to remove all empty strings from a list.\n",
    "# List with empty strings\n",
    "strings = [\"apple\", \"\", \"banana\", \"\", \"cherry\", \"\"]\n",
    "\n",
    "# Use filter to remove empty strings\n",
    "filtered_strings = list(filter(lambda x: x != \"\", strings))\n",
    "\n",
    "# Print the result\n",
    "print(filtered_strings)  # Output: ['apple', 'banana', 'cherry']\n"
   ]
  },
  {
   "cell_type": "code",
   "execution_count": 139,
   "metadata": {},
   "outputs": [
    {
     "name": "stdout",
     "output_type": "stream",
     "text": [
      "[('Alice', 25), ('Bob', 30), ('Charlie', 35), ('Diana', 40)]\n"
     ]
    }
   ],
   "source": [
    "# Use zip to pair up two lists of names and ages. \n",
    "# List of names\n",
    "names = [\"Alice\", \"Bob\", \"Charlie\", \"Diana\"]\n",
    "\n",
    "# List of ages\n",
    "ages = [25, 30, 35, 40]\n",
    "\n",
    "# Use zip to pair up names and ages\n",
    "paired = list(zip(names, ages))\n",
    "\n",
    "# Print the result\n",
    "print(paired)  # Output: [('Alice', 25), ('Bob', 30), ('Charlie', 35), ('Diana', 40)]\n"
   ]
  },
  {
   "cell_type": "code",
   "execution_count": 140,
   "metadata": {},
   "outputs": [
    {
     "name": "stdout",
     "output_type": "stream",
     "text": [
      "Index 0: apple\n",
      "Index 1: banana\n",
      "Index 2: cherry\n",
      "Index 3: date\n"
     ]
    }
   ],
   "source": [
    "# Iterate over a list using enumerate and print the index and value. \n",
    "# List of items\n",
    "items = [\"apple\", \"banana\", \"cherry\", \"date\"]\n",
    "\n",
    "# Iterate over the list using enumerate\n",
    "for index, value in enumerate(items):\n",
    "    print(f\"Index {index}: {value}\")\n"
   ]
  },
  {
   "cell_type": "code",
   "execution_count": 141,
   "metadata": {},
   "outputs": [
    {
     "name": "stdout",
     "output_type": "stream",
     "text": [
      "[(1, 'apple'), (3, 'banana'), (2, 'cherry'), (4, 'date')]\n"
     ]
    }
   ],
   "source": [
    "# Use sorted with a lambda function to sort a list of tuples based on the second element. \n",
    "# List of tuples\n",
    "tuples = [(1, 'apple'), (3, 'banana'), (2, 'cherry'), (4, 'date')]\n",
    "\n",
    "# Use sorted with a lambda function to sort by the second element (index 1)\n",
    "sorted_tuples = sorted(tuples, key=lambda x: x[1])\n",
    "\n",
    "# Print the result\n",
    "print(sorted_tuples)  # Output: [(1, 'apple'), (3, 'banana'), (2, 'cherry'), (4, 'date')]\n"
   ]
  },
  {
   "cell_type": "code",
   "execution_count": 152,
   "metadata": {},
   "outputs": [],
   "source": [
    "# Create a module math_utils.py with functions for basic arithmetic operations and import it \n",
    "#in another script.\n",
    "\n",
    "    \n"
   ]
  },
  {
   "cell_type": "code",
   "execution_count": 153,
   "metadata": {},
   "outputs": [
    {
     "name": "stdout",
     "output_type": "stream",
     "text": [
      "66\n",
      "91\n",
      "24\n",
      "79\n",
      "50\n"
     ]
    }
   ],
   "source": [
    "# Write a script that imports the random module and generates 5 random numbers. \n",
    "import random\n",
    "\n",
    "# Generate and print 5 random numbers between 1 and 100\n",
    "for _ in range(5):\n",
    "    print(random.randint(1, 100))\n"
   ]
  },
  {
   "cell_type": "code",
   "execution_count": 155,
   "metadata": {},
   "outputs": [],
   "source": [
    "# Install and use a third-party module (requests) to fetch data from an API.\n"
   ]
  },
  {
   "cell_type": "code",
   "execution_count": null,
   "metadata": {},
   "outputs": [],
   "source": [
    "# Write a module containing a function that calculates compound interest and import it in \n",
    "#another script. \n"
   ]
  },
  {
   "cell_type": "code",
   "execution_count": null,
   "metadata": {},
   "outputs": [],
   "source": [
    "# Create a module that includes a function to read a file and print its contents. \n"
   ]
  }
 ],
 "metadata": {
  "kernelspec": {
   "display_name": "Python 3",
   "language": "python",
   "name": "python3"
  },
  "language_info": {
   "codemirror_mode": {
    "name": "ipython",
    "version": 3
   },
   "file_extension": ".py",
   "mimetype": "text/x-python",
   "name": "python",
   "nbconvert_exporter": "python",
   "pygments_lexer": "ipython3",
   "version": "3.12.5"
  }
 },
 "nbformat": 4,
 "nbformat_minor": 2
}
